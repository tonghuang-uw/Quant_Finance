{
 "cells": [
  {
   "cell_type": "code",
   "execution_count": 1,
   "metadata": {},
   "outputs": [],
   "source": [
    "import numpy as np\n",
    "import pandas as pd\n",
    "import matplotlib.pyplot as plt"
   ]
  },
  {
   "cell_type": "markdown",
   "metadata": {},
   "source": [
    "# Factors Models\n",
    "\n",
    "\n",
    "## Data Cleaning"
   ]
  },
  {
   "cell_type": "code",
   "execution_count": 51,
   "metadata": {},
   "outputs": [
    {
     "data": {
      "text/html": "<div>\n<style scoped>\n    .dataframe tbody tr th:only-of-type {\n        vertical-align: middle;\n    }\n\n    .dataframe tbody tr th {\n        vertical-align: top;\n    }\n\n    .dataframe thead th {\n        text-align: right;\n    }\n</style>\n<table border=\"1\" class=\"dataframe\">\n  <thead>\n    <tr style=\"text-align: right;\">\n      <th></th>\n      <th>Date</th>\n      <th>DATE</th>\n      <th>Three_month_treasury</th>\n      <th>GM_Volume</th>\n      <th>GM_AC</th>\n      <th>F_Volume</th>\n      <th>F_AC</th>\n      <th>UTX_Volume</th>\n      <th>UTX_AC</th>\n      <th>CAT_Volume</th>\n      <th>...</th>\n      <th>S&amp;P_Volume</th>\n      <th>1 year Treasury Constant Maturity Rate</th>\n      <th>3-Year Treasury Constant Maturity Rate</th>\n      <th>10 year Treasury Constant Maturity Rate</th>\n      <th>30 year Treasury Constant Maturity Rate</th>\n      <th>Aaa Bond Yield</th>\n      <th>Baa Bond Yield</th>\n      <th>$/Euro</th>\n      <th>Yen/$</th>\n      <th>Brazil Real/$</th>\n    </tr>\n  </thead>\n  <tbody>\n    <tr>\n      <th>252</th>\n      <td>3-Jan-05</td>\n      <td>1/3/2005</td>\n      <td>2.29</td>\n      <td>6518500</td>\n      <td>36.77</td>\n      <td>9852200</td>\n      <td>13.68</td>\n      <td>4697600</td>\n      <td>50.02</td>\n      <td>6294000</td>\n      <td>...</td>\n      <td>1510800000</td>\n      <td>2.79</td>\n      <td>3.28</td>\n      <td>4.23</td>\n      <td>NaN</td>\n      <td>5.43</td>\n      <td>6.09</td>\n      <td>1.3476</td>\n      <td>102.83</td>\n      <td>2.6695</td>\n    </tr>\n    <tr>\n      <th>253</th>\n      <td>4-Jan-05</td>\n      <td>1/4/2005</td>\n      <td>2.30</td>\n      <td>6590400</td>\n      <td>36.40</td>\n      <td>9035400</td>\n      <td>13.63</td>\n      <td>4759400</td>\n      <td>49.44</td>\n      <td>7579400</td>\n      <td>...</td>\n      <td>1720999936</td>\n      <td>2.82</td>\n      <td>3.38</td>\n      <td>4.29</td>\n      <td>NaN</td>\n      <td>5.49</td>\n      <td>6.14</td>\n      <td>1.3295</td>\n      <td>104.27</td>\n      <td>2.7020</td>\n    </tr>\n    <tr>\n      <th>254</th>\n      <td>5-Jan-05</td>\n      <td>1/5/2005</td>\n      <td>2.29</td>\n      <td>5459400</td>\n      <td>35.69</td>\n      <td>11376200</td>\n      <td>13.42</td>\n      <td>4754200</td>\n      <td>49.07</td>\n      <td>5932800</td>\n      <td>...</td>\n      <td>1738899968</td>\n      <td>2.83</td>\n      <td>3.39</td>\n      <td>4.29</td>\n      <td>NaN</td>\n      <td>5.47</td>\n      <td>6.12</td>\n      <td>1.3292</td>\n      <td>103.95</td>\n      <td>2.6970</td>\n    </tr>\n    <tr>\n      <th>255</th>\n      <td>6-Jan-05</td>\n      <td>1/6/2005</td>\n      <td>2.27</td>\n      <td>4508600</td>\n      <td>35.99</td>\n      <td>6672600</td>\n      <td>13.44</td>\n      <td>3942800</td>\n      <td>49.10</td>\n      <td>6300400</td>\n      <td>...</td>\n      <td>1569100032</td>\n      <td>2.82</td>\n      <td>3.36</td>\n      <td>4.29</td>\n      <td>NaN</td>\n      <td>5.48</td>\n      <td>6.13</td>\n      <td>1.3187</td>\n      <td>104.87</td>\n      <td>2.7190</td>\n    </tr>\n    <tr>\n      <th>256</th>\n      <td>7-Jan-05</td>\n      <td>1/7/2005</td>\n      <td>2.29</td>\n      <td>5575800</td>\n      <td>35.58</td>\n      <td>11452500</td>\n      <td>13.62</td>\n      <td>3676800</td>\n      <td>48.57</td>\n      <td>5815400</td>\n      <td>...</td>\n      <td>1477900032</td>\n      <td>2.82</td>\n      <td>3.40</td>\n      <td>4.29</td>\n      <td>NaN</td>\n      <td>5.47</td>\n      <td>6.12</td>\n      <td>1.3062</td>\n      <td>104.93</td>\n      <td>2.7095</td>\n    </tr>\n  </tbody>\n</table>\n<p>5 rows × 34 columns</p>\n</div>",
      "text/plain": "         Date      DATE  Three_month_treasury  GM_Volume  GM_AC  F_Volume  \\\n252  3-Jan-05  1/3/2005                  2.29    6518500  36.77   9852200   \n253  4-Jan-05  1/4/2005                  2.30    6590400  36.40   9035400   \n254  5-Jan-05  1/5/2005                  2.29    5459400  35.69  11376200   \n255  6-Jan-05  1/6/2005                  2.27    4508600  35.99   6672600   \n256  7-Jan-05  1/7/2005                  2.29    5575800  35.58  11452500   \n\n      F_AC  UTX_Volume  UTX_AC  CAT_Volume  ...  S&P_Volume  \\\n252  13.68     4697600   50.02     6294000  ...  1510800000   \n253  13.63     4759400   49.44     7579400  ...  1720999936   \n254  13.42     4754200   49.07     5932800  ...  1738899968   \n255  13.44     3942800   49.10     6300400  ...  1569100032   \n256  13.62     3676800   48.57     5815400  ...  1477900032   \n\n     1 year Treasury Constant Maturity Rate  \\\n252                                    2.79   \n253                                    2.82   \n254                                    2.83   \n255                                    2.82   \n256                                    2.82   \n\n     3-Year Treasury Constant Maturity Rate  \\\n252                                    3.28   \n253                                    3.38   \n254                                    3.39   \n255                                    3.36   \n256                                    3.40   \n\n     10 year Treasury Constant Maturity Rate  \\\n252                                     4.23   \n253                                     4.29   \n254                                     4.29   \n255                                     4.29   \n256                                     4.29   \n\n     30 year Treasury Constant Maturity Rate  Aaa Bond Yield  Baa Bond Yield  \\\n252                                      NaN            5.43            6.09   \n253                                      NaN            5.49            6.14   \n254                                      NaN            5.47            6.12   \n255                                      NaN            5.48            6.13   \n256                                      NaN            5.47            6.12   \n\n     $/Euro   Yen/$  Brazil Real/$  \n252  1.3476  102.83         2.6695  \n253  1.3295  104.27         2.7020  \n254  1.3292  103.95         2.6970  \n255  1.3187  104.87         2.7190  \n256  1.3062  104.93         2.7095  \n\n[5 rows x 34 columns]"
     },
     "execution_count": 51,
     "metadata": {},
     "output_type": "execute_result"
    }
   ],
   "source": [
    "df = pd.read_csv('./data/Stock_Bond_2004_to_2006.csv')\n",
    "df = df[252:504]\n",
    "df.head()"
   ]
  },
  {
   "cell_type": "code",
   "execution_count": 88,
   "metadata": {},
   "outputs": [
    {
     "data": {
      "text/html": "<div>\n<style scoped>\n    .dataframe tbody tr th:only-of-type {\n        vertical-align: middle;\n    }\n\n    .dataframe tbody tr th {\n        vertical-align: top;\n    }\n\n    .dataframe thead th {\n        text-align: right;\n    }\n</style>\n<table border=\"1\" class=\"dataframe\">\n  <thead>\n    <tr style=\"text-align: right;\">\n      <th></th>\n      <th>Mkt-RF</th>\n      <th>SMB</th>\n      <th>HML</th>\n      <th>RF</th>\n    </tr>\n    <tr>\n      <th>Date</th>\n      <th></th>\n      <th></th>\n      <th></th>\n      <th></th>\n    </tr>\n  </thead>\n  <tbody>\n    <tr>\n      <th>2005-01-03</th>\n      <td>-0.97</td>\n      <td>-0.60</td>\n      <td>-0.07</td>\n      <td>0.008</td>\n    </tr>\n    <tr>\n      <th>2005-01-04</th>\n      <td>-1.30</td>\n      <td>-0.61</td>\n      <td>0.46</td>\n      <td>0.008</td>\n    </tr>\n    <tr>\n      <th>2005-01-05</th>\n      <td>-0.51</td>\n      <td>-1.12</td>\n      <td>0.01</td>\n      <td>0.008</td>\n    </tr>\n    <tr>\n      <th>2005-01-06</th>\n      <td>0.34</td>\n      <td>-0.15</td>\n      <td>0.14</td>\n      <td>0.008</td>\n    </tr>\n    <tr>\n      <th>2005-01-07</th>\n      <td>-0.22</td>\n      <td>-0.81</td>\n      <td>-0.09</td>\n      <td>0.008</td>\n    </tr>\n  </tbody>\n</table>\n</div>",
      "text/plain": "            Mkt-RF   SMB   HML     RF\nDate                                 \n2005-01-03   -0.97 -0.60 -0.07  0.008\n2005-01-04   -1.30 -0.61  0.46  0.008\n2005-01-05   -0.51 -1.12  0.01  0.008\n2005-01-06    0.34 -0.15  0.14  0.008\n2005-01-07   -0.22 -0.81 -0.09  0.008"
     },
     "execution_count": 88,
     "metadata": {},
     "output_type": "execute_result"
    }
   ],
   "source": [
    "factors = pd.read_csv('./data/factors.CSV', delimiter = ',')\n",
    "factors.rename(columns={'Unnamed: 0': 'Date'}, inplace=True)\n",
    "factors = factors.iloc[:-1,]\n",
    "factors['Date'] = pd.to_datetime(factors['Date'], format = '%Y%m%d')\n",
    "factors = factors.set_index(['Date'])\n",
    "factors_2005 = factors.loc['2005']\n",
    "factors_2005.head()"
   ]
  },
  {
   "cell_type": "code",
   "execution_count": 103,
   "metadata": {},
   "outputs": [
    {
     "data": {
      "text/html": "<div>\n<style scoped>\n    .dataframe tbody tr th:only-of-type {\n        vertical-align: middle;\n    }\n\n    .dataframe tbody tr th {\n        vertical-align: top;\n    }\n\n    .dataframe thead th {\n        text-align: right;\n    }\n</style>\n<table border=\"1\" class=\"dataframe\">\n  <thead>\n    <tr style=\"text-align: right;\">\n      <th></th>\n      <th>GM_AC</th>\n      <th>F_AC</th>\n      <th>UTX_AC</th>\n      <th>MRK_AC</th>\n    </tr>\n    <tr>\n      <th>Date</th>\n      <th></th>\n      <th></th>\n      <th></th>\n      <th></th>\n    </tr>\n  </thead>\n  <tbody>\n    <tr>\n      <th>2005-01-04</th>\n      <td>-0.378</td>\n      <td>-0.058</td>\n      <td>-0.588</td>\n      <td>-0.128</td>\n    </tr>\n    <tr>\n      <th>2005-01-05</th>\n      <td>-0.718</td>\n      <td>-0.218</td>\n      <td>-0.378</td>\n      <td>0.182</td>\n    </tr>\n    <tr>\n      <th>2005-01-06</th>\n      <td>0.292</td>\n      <td>0.012</td>\n      <td>0.022</td>\n      <td>0.192</td>\n    </tr>\n    <tr>\n      <th>2005-01-07</th>\n      <td>-0.418</td>\n      <td>0.172</td>\n      <td>-0.538</td>\n      <td>-0.398</td>\n    </tr>\n    <tr>\n      <th>2005-01-10</th>\n      <td>-0.468</td>\n      <td>-0.098</td>\n      <td>-0.138</td>\n      <td>0.332</td>\n    </tr>\n  </tbody>\n</table>\n</div>",
      "text/plain": "            GM_AC   F_AC  UTX_AC  MRK_AC\nDate                                    \n2005-01-04 -0.378 -0.058  -0.588  -0.128\n2005-01-05 -0.718 -0.218  -0.378   0.182\n2005-01-06  0.292  0.012   0.022   0.192\n2005-01-07 -0.418  0.172  -0.538  -0.398\n2005-01-10 -0.468 -0.098  -0.138   0.332"
     },
     "execution_count": 103,
     "metadata": {},
     "output_type": "execute_result"
    }
   ],
   "source": [
    "stock_subset = df[['GM_AC', 'F_AC', 'UTX_AC', 'MRK_AC']]\n",
    "stock_subset = stock_subset.set_index(factors_2005.index)\n",
    "stock_diff = stock_subset.diff().dropna().sub(factors_2005[1:]['RF'], axis = 0)\n",
    "stock_diff.head()"
   ]
  },
  {
   "cell_type": "markdown",
   "metadata": {},
   "source": [
    "# Linear Model"
   ]
  },
  {
   "cell_type": "code",
   "execution_count": 104,
   "metadata": {},
   "outputs": [],
   "source": [
    "import statsmodels.api as sm"
   ]
  },
  {
   "cell_type": "code",
   "execution_count": 138,
   "metadata": {},
   "outputs": [
    {
     "name": "stdout",
     "output_type": "stream",
     "text": [
      "                            OLS Regression Results                            \n",
      "==============================================================================\n",
      "Dep. Variable:                  GM_AC   R-squared:                       0.129\n",
      "Model:                            OLS   Adj. R-squared:                  0.126\n",
      "Method:                 Least Squares   F-statistic:                     37.02\n",
      "Date:                Tue, 30 Apr 2024   Prob (F-statistic):           4.39e-09\n",
      "Time:                        12:01:33   Log-Likelihood:                -260.62\n",
      "No. Observations:                 251   AIC:                             525.2\n",
      "Df Residuals:                     249   BIC:                             532.3\n",
      "Df Model:                           1                                         \n",
      "Covariance Type:            nonrobust                                         \n",
      "==============================================================================\n",
      "                 coef    std err          t      P>|t|      [0.025      0.975]\n",
      "------------------------------------------------------------------------------\n",
      "const         -0.0901      0.043     -2.079      0.039      -0.175      -0.005\n",
      "Mkt-RF         0.3991      0.066      6.084      0.000       0.270       0.528\n",
      "==============================================================================\n",
      "Omnibus:                       60.494   Durbin-Watson:                   2.081\n",
      "Prob(Omnibus):                  0.000   Jarque-Bera (JB):             1058.171\n",
      "Skew:                           0.310   Prob(JB):                    1.66e-230\n",
      "Kurtosis:                      13.040   Cond. No.                         1.52\n",
      "==============================================================================\n",
      "\n",
      "Notes:\n",
      "[1] Standard Errors assume that the covariance matrix of the errors is correctly specified.\n",
      "                            OLS Regression Results                            \n",
      "==============================================================================\n",
      "Dep. Variable:                   F_AC   R-squared:                       0.220\n",
      "Model:                            OLS   Adj. R-squared:                  0.217\n",
      "Method:                 Least Squares   F-statistic:                     70.33\n",
      "Date:                Tue, 30 Apr 2024   Prob (F-statistic):           3.75e-15\n",
      "Time:                        12:01:33   Log-Likelihood:                 117.09\n",
      "No. Observations:                 251   AIC:                            -230.2\n",
      "Df Residuals:                     249   BIC:                            -223.1\n",
      "Df Model:                           1                                         \n",
      "Covariance Type:            nonrobust                                         \n",
      "==============================================================================\n",
      "                 coef    std err          t      P>|t|      [0.025      0.975]\n",
      "------------------------------------------------------------------------------\n",
      "const         -0.0386      0.010     -4.013      0.000      -0.058      -0.020\n",
      "Mkt-RF         0.1222      0.015      8.386      0.000       0.093       0.151\n",
      "==============================================================================\n",
      "Omnibus:                       10.842   Durbin-Watson:                   2.094\n",
      "Prob(Omnibus):                  0.004   Jarque-Bera (JB):               21.233\n",
      "Skew:                           0.140   Prob(JB):                     2.45e-05\n",
      "Kurtosis:                       4.397   Cond. No.                         1.52\n",
      "==============================================================================\n",
      "\n",
      "Notes:\n",
      "[1] Standard Errors assume that the covariance matrix of the errors is correctly specified.\n",
      "                            OLS Regression Results                            \n",
      "==============================================================================\n",
      "Dep. Variable:                 UTX_AC   R-squared:                       0.413\n",
      "Model:                            OLS   Adj. R-squared:                  0.411\n",
      "Method:                 Least Squares   F-statistic:                     175.2\n",
      "Date:                Tue, 30 Apr 2024   Prob (F-statistic):           1.22e-30\n",
      "Time:                        12:01:33   Log-Likelihood:                -127.53\n",
      "No. Observations:                 251   AIC:                             259.1\n",
      "Df Residuals:                     249   BIC:                             266.1\n",
      "Df Model:                           1                                         \n",
      "Covariance Type:            nonrobust                                         \n",
      "==============================================================================\n",
      "                 coef    std err          t      P>|t|      [0.025      0.975]\n",
      "------------------------------------------------------------------------------\n",
      "const       4.613e-05      0.025      0.002      0.999      -0.050       0.050\n",
      "Mkt-RF         0.5110      0.039     13.237      0.000       0.435       0.587\n",
      "==============================================================================\n",
      "Omnibus:                        3.208   Durbin-Watson:                   1.932\n",
      "Prob(Omnibus):                  0.201   Jarque-Bera (JB):                3.208\n",
      "Skew:                           0.135   Prob(JB):                        0.201\n",
      "Kurtosis:                       3.484   Cond. No.                         1.52\n",
      "==============================================================================\n",
      "\n",
      "Notes:\n",
      "[1] Standard Errors assume that the covariance matrix of the errors is correctly specified.\n",
      "                            OLS Regression Results                            \n",
      "==============================================================================\n",
      "Dep. Variable:                 MRK_AC   R-squared:                       0.067\n",
      "Model:                            OLS   Adj. R-squared:                  0.063\n",
      "Method:                 Least Squares   F-statistic:                     17.74\n",
      "Date:                Tue, 30 Apr 2024   Prob (F-statistic):           3.54e-05\n",
      "Time:                        12:01:33   Log-Likelihood:                -163.57\n",
      "No. Observations:                 251   AIC:                             331.1\n",
      "Df Residuals:                     249   BIC:                             338.2\n",
      "Df Model:                           1                                         \n",
      "Covariance Type:            nonrobust                                         \n",
      "==============================================================================\n",
      "                 coef    std err          t      P>|t|      [0.025      0.975]\n",
      "------------------------------------------------------------------------------\n",
      "const         -0.0070      0.029     -0.238      0.812      -0.065       0.051\n",
      "Mkt-RF         0.1877      0.045      4.212      0.000       0.100       0.275\n",
      "==============================================================================\n",
      "Omnibus:                       99.716   Durbin-Watson:                   2.146\n",
      "Prob(Omnibus):                  0.000   Jarque-Bera (JB):             4397.173\n",
      "Skew:                           0.742   Prob(JB):                         0.00\n",
      "Kurtosis:                      23.451   Cond. No.                         1.52\n",
      "==============================================================================\n",
      "\n",
      "Notes:\n",
      "[1] Standard Errors assume that the covariance matrix of the errors is correctly specified.\n"
     ]
    }
   ],
   "source": [
    "n_investments = len(stock_diff.columns)\n",
    "res_matrix = np.zeros((len(stock_diff), n_investments))\n",
    "betas = np.zeros(n_investments)\n",
    "\n",
    "X = sm.add_constant(factors_2005.iloc[1:, ]['Mkt-RF'])\n",
    "\n",
    "for i in range(n_investments):\n",
    "    y = stock_diff.iloc[:, i]\n",
    "    model = sm.OLS(y, X).fit()\n",
    "    res_matrix[:, i] = model.resid\n",
    "    betas[i] = model.params.iloc[1]\n",
    "    print(model.summary())"
   ]
  },
  {
   "cell_type": "markdown",
   "metadata": {},
   "source": [
    "Based on the summary, the intercepts of GM and F have p value that are less than 0.05, which indicates that we can reject the null hypothesis that their intercepts are zeros.\n",
    "\n",
    "The p value of intercept of GM is 0.039, and the p value of intercept of F is 0.000.\n",
    "\n",
    "Since both intercepts are negative (-0.091, -0.03), it means that both stocks are overpriced."
   ]
  },
  {
   "cell_type": "markdown",
   "metadata": {},
   "source": [
    "# Correlation matrix\n",
    "\n",
    "We can see that the correlation of residual between GM and F is relatively large."
   ]
  },
  {
   "cell_type": "code",
   "execution_count": 139,
   "metadata": {},
   "outputs": [
    {
     "data": {
      "text/plain": "array([[ 1.        ,  0.54544422, -0.08135563,  0.00523007],\n       [ 0.54544422,  1.        , -0.03939744,  0.08670985],\n       [-0.08135563, -0.03939744,  1.        , -0.03639009],\n       [ 0.00523007,  0.08670985, -0.03639009,  1.        ]])"
     },
     "execution_count": 139,
     "metadata": {},
     "output_type": "execute_result"
    }
   ],
   "source": [
    "np.corrcoef(res_matrix.T)"
   ]
  },
  {
   "cell_type": "markdown",
   "metadata": {},
   "source": [
    "# Covariance matrix estimation"
   ]
  },
  {
   "cell_type": "markdown",
   "metadata": {},
   "source": [
    "## Sample Covariance Matrix"
   ]
  },
  {
   "cell_type": "code",
   "execution_count": 160,
   "metadata": {},
   "outputs": [
    {
     "data": {
      "text/html": "<div>\n<style scoped>\n    .dataframe tbody tr th:only-of-type {\n        vertical-align: middle;\n    }\n\n    .dataframe tbody tr th {\n        vertical-align: top;\n    }\n\n    .dataframe thead th {\n        text-align: right;\n    }\n</style>\n<table border=\"1\" class=\"dataframe\">\n  <thead>\n    <tr style=\"text-align: right;\">\n      <th></th>\n      <th>GM_AC</th>\n      <th>F_AC</th>\n      <th>UTX_AC</th>\n      <th>MRK_AC</th>\n    </tr>\n  </thead>\n  <tbody>\n    <tr>\n      <th>GM_AC</th>\n      <td>0.538668</td>\n      <td>0.078140</td>\n      <td>0.066804</td>\n      <td>0.034455</td>\n    </tr>\n    <tr>\n      <th>F_AC</th>\n      <td>0.078140</td>\n      <td>0.029656</td>\n      <td>0.024905</td>\n      <td>0.016170</td>\n    </tr>\n    <tr>\n      <th>UTX_AC</th>\n      <td>0.066804</td>\n      <td>0.024905</td>\n      <td>0.276662</td>\n      <td>0.035156</td>\n    </tr>\n    <tr>\n      <th>MRK_AC</th>\n      <td>0.034455</td>\n      <td>0.016170</td>\n      <td>0.035156</td>\n      <td>0.231836</td>\n    </tr>\n  </tbody>\n</table>\n</div>",
      "text/plain": "           GM_AC      F_AC    UTX_AC    MRK_AC\nGM_AC   0.538668  0.078140  0.066804  0.034455\nF_AC    0.078140  0.029656  0.024905  0.016170\nUTX_AC  0.066804  0.024905  0.276662  0.035156\nMRK_AC  0.034455  0.016170  0.035156  0.231836"
     },
     "execution_count": 160,
     "metadata": {},
     "output_type": "execute_result"
    }
   ],
   "source": [
    "stock_diff.cov()"
   ]
  },
  {
   "cell_type": "markdown",
   "metadata": {},
   "source": [
    "## CAPM estimation of covariance"
   ]
  },
  {
   "cell_type": "code",
   "execution_count": 157,
   "metadata": {},
   "outputs": [
    {
     "data": {
      "text/plain": "array([[0.53686003, 0.02135826, 0.08933317, 0.03281785],\n       [0.02135826, 0.02956989, 0.02734358, 0.01004507],\n       [0.08933317, 0.02734358, 0.27611449, 0.04201454],\n       [0.03281785, 0.01004507, 0.04201454, 0.23098688]])"
     },
     "execution_count": 157,
     "metadata": {},
     "output_type": "execute_result"
    }
   ],
   "source": [
    "sigF = np.var(factors_2005['Mkt-RF'])\n",
    "sigep = np.diag(np.var(res_matrix, axis=0))\n",
    "betas = betas.reshape(-1, 1)\n",
    "cov = betas @ betas.T * sigF + sigep\n",
    "cov"
   ]
  },
  {
   "cell_type": "markdown",
   "metadata": {},
   "source": [
    "There is no any large discrepancies between the two estimates of covariance matrix."
   ]
  },
  {
   "cell_type": "markdown",
   "metadata": {},
   "source": [
    "## Fit the Fama-French three-factor model\n",
    "\n",
    "The Capital Asset Pricing Model (CAPM) provides a simple and intuitive prediction regarding how expected returns on stocks are related to their market risk, quantified through the beta coefficient. The model posits that the expected return on a security is solely a function of its systematic risk relative to the overall market (captured by the beta coefficient), plus the risk-free rate. It asserts that the market is the only relevant risk factor, and hence, the only source of rewarded risk.\n",
    "\n",
    "For UTX and MRK, the slope is significant where is not zero."
   ]
  },
  {
   "cell_type": "code",
   "execution_count": 168,
   "metadata": {},
   "outputs": [
    {
     "name": "stdout",
     "output_type": "stream",
     "text": [
      "                            OLS Regression Results                            \n",
      "==============================================================================\n",
      "Dep. Variable:                  GM_AC   R-squared:                       0.148\n",
      "Model:                            OLS   Adj. R-squared:                  0.137\n",
      "Method:                 Least Squares   F-statistic:                     14.26\n",
      "Date:                Tue, 30 Apr 2024   Prob (F-statistic):           1.33e-08\n",
      "Time:                        12:12:20   Log-Likelihood:                -257.96\n",
      "No. Observations:                 251   AIC:                             523.9\n",
      "Df Residuals:                     247   BIC:                             538.0\n",
      "Df Model:                           3                                         \n",
      "Covariance Type:            nonrobust                                         \n",
      "==============================================================================\n",
      "                 coef    std err          t      P>|t|      [0.025      0.975]\n",
      "------------------------------------------------------------------------------\n",
      "const         -0.1052      0.044     -2.417      0.016      -0.191      -0.019\n",
      "Mkt-RF         0.4372      0.077      5.669      0.000       0.285       0.589\n",
      "SMB            0.0065      0.117      0.055      0.956      -0.224       0.237\n",
      "HML            0.4211      0.185      2.279      0.024       0.057       0.785\n",
      "==============================================================================\n",
      "Omnibus:                       55.766   Durbin-Watson:                   1.995\n",
      "Prob(Omnibus):                  0.000   Jarque-Bera (JB):              922.181\n",
      "Skew:                           0.187   Prob(JB):                    5.63e-201\n",
      "Kurtosis:                      12.383   Cond. No.                         4.34\n",
      "==============================================================================\n",
      "\n",
      "Notes:\n",
      "[1] Standard Errors assume that the covariance matrix of the errors is correctly specified.\n",
      "                            OLS Regression Results                            \n",
      "==============================================================================\n",
      "Dep. Variable:                   F_AC   R-squared:                       0.229\n",
      "Model:                            OLS   Adj. R-squared:                  0.219\n",
      "Method:                 Least Squares   F-statistic:                     24.41\n",
      "Date:                Tue, 30 Apr 2024   Prob (F-statistic):           7.21e-14\n",
      "Time:                        12:12:20   Log-Likelihood:                 118.45\n",
      "No. Observations:                 251   AIC:                            -228.9\n",
      "Df Residuals:                     247   BIC:                            -214.8\n",
      "Df Model:                           3                                         \n",
      "Covariance Type:            nonrobust                                         \n",
      "==============================================================================\n",
      "                 coef    std err          t      P>|t|      [0.025      0.975]\n",
      "------------------------------------------------------------------------------\n",
      "const         -0.0378      0.010     -3.888      0.000      -0.057      -0.019\n",
      "Mkt-RF         0.1071      0.017      6.224      0.000       0.073       0.141\n",
      "SMB            0.0408      0.026      1.559      0.120      -0.011       0.092\n",
      "HML           -0.0112      0.041     -0.272      0.786      -0.092       0.070\n",
      "==============================================================================\n",
      "Omnibus:                       10.657   Durbin-Watson:                   2.085\n",
      "Prob(Omnibus):                  0.005   Jarque-Bera (JB):               22.002\n",
      "Skew:                           0.081   Prob(JB):                     1.67e-05\n",
      "Kurtosis:                       4.441   Cond. No.                         4.34\n",
      "==============================================================================\n",
      "\n",
      "Notes:\n",
      "[1] Standard Errors assume that the covariance matrix of the errors is correctly specified.\n",
      "                            OLS Regression Results                            \n",
      "==============================================================================\n",
      "Dep. Variable:                 UTX_AC   R-squared:                       0.444\n",
      "Model:                            OLS   Adj. R-squared:                  0.437\n",
      "Method:                 Least Squares   F-statistic:                     65.65\n",
      "Date:                Tue, 30 Apr 2024   Prob (F-statistic):           3.01e-31\n",
      "Time:                        12:12:20   Log-Likelihood:                -120.81\n",
      "No. Observations:                 251   AIC:                             249.6\n",
      "Df Residuals:                     247   BIC:                             263.7\n",
      "Df Model:                           3                                         \n",
      "Covariance Type:            nonrobust                                         \n",
      "==============================================================================\n",
      "                 coef    std err          t      P>|t|      [0.025      0.975]\n",
      "------------------------------------------------------------------------------\n",
      "const          0.0069      0.025      0.274      0.784      -0.043       0.057\n",
      "Mkt-RF         0.5608      0.045     12.558      0.000       0.473       0.649\n",
      "SMB           -0.2155      0.068     -3.177      0.002      -0.349      -0.082\n",
      "HML           -0.2506      0.107     -2.342      0.020      -0.461      -0.040\n",
      "==============================================================================\n",
      "Omnibus:                        3.898   Durbin-Watson:                   1.961\n",
      "Prob(Omnibus):                  0.142   Jarque-Bera (JB):                3.814\n",
      "Skew:                           0.194   Prob(JB):                        0.148\n",
      "Kurtosis:                       3.463   Cond. No.                         4.34\n",
      "==============================================================================\n",
      "\n",
      "Notes:\n",
      "[1] Standard Errors assume that the covariance matrix of the errors is correctly specified.\n",
      "                            OLS Regression Results                            \n",
      "==============================================================================\n",
      "Dep. Variable:                 MRK_AC   R-squared:                       0.094\n",
      "Model:                            OLS   Adj. R-squared:                  0.083\n",
      "Method:                 Least Squares   F-statistic:                     8.541\n",
      "Date:                Tue, 30 Apr 2024   Prob (F-statistic):           2.03e-05\n",
      "Time:                        12:12:20   Log-Likelihood:                -159.82\n",
      "No. Observations:                 251   AIC:                             327.6\n",
      "Df Residuals:                     247   BIC:                             341.7\n",
      "Df Model:                           3                                         \n",
      "Covariance Type:            nonrobust                                         \n",
      "==============================================================================\n",
      "                 coef    std err          t      P>|t|      [0.025      0.975]\n",
      "------------------------------------------------------------------------------\n",
      "const          0.0030      0.029      0.102      0.919      -0.055       0.061\n",
      "Mkt-RF         0.1989      0.052      3.813      0.000       0.096       0.302\n",
      "SMB           -0.1197      0.079     -1.511      0.132      -0.276       0.036\n",
      "HML           -0.3112      0.125     -2.489      0.013      -0.557      -0.065\n",
      "==============================================================================\n",
      "Omnibus:                       97.863   Durbin-Watson:                   2.190\n",
      "Prob(Omnibus):                  0.000   Jarque-Bera (JB):             4524.639\n",
      "Skew:                           0.689   Prob(JB):                         0.00\n",
      "Kurtosis:                      23.754   Cond. No.                         4.34\n",
      "==============================================================================\n",
      "\n",
      "Notes:\n",
      "[1] Standard Errors assume that the covariance matrix of the errors is correctly specified.\n"
     ]
    }
   ],
   "source": [
    "X = sm.add_constant(factors_2005.iloc[1:][['Mkt-RF', 'SMB', 'HML']])\n",
    "\n",
    "for i in range(n_investments):\n",
    "    y = stock_diff.iloc[:, i]\n",
    "    model = sm.OLS(y, X).fit()\n",
    "    print(model.summary())"
   ]
  },
  {
   "cell_type": "markdown",
   "metadata": {},
   "source": []
  },
  {
   "cell_type": "code",
   "execution_count": null,
   "metadata": {},
   "outputs": [],
   "source": []
  }
 ],
 "metadata": {
  "kernelspec": {
   "display_name": "Python 3.11.7 64-bit ('nlp': conda)",
   "name": "python3117jvsc74a57bd061144442c5bba5d28851d4d88bd107affeefd4f9a3e21babceae053099746efa"
  },
  "language_info": {
   "codemirror_mode": {
    "name": "ipython",
    "version": 3
   },
   "file_extension": ".py",
   "mimetype": "text/x-python",
   "name": "python",
   "nbconvert_exporter": "python",
   "pygments_lexer": "ipython3",
   "version": "3.11.7"
  },
  "orig_nbformat": 2
 },
 "nbformat": 4,
 "nbformat_minor": 2
}