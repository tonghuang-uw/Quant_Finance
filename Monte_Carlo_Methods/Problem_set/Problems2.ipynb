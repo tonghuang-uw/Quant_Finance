{
 "cells": [
  {
   "cell_type": "code",
   "execution_count": 1,
   "metadata": {},
   "outputs": [],
   "source": [
    "import numpy as np\n",
    "import matplotlib.pyplot as plt"
   ]
  },
  {
   "cell_type": "markdown",
   "metadata": {},
   "source": [
    "# Model Calibration"
   ]
  },
  {
   "cell_type": "markdown",
   "metadata": {},
   "source": [
    "\n",
    "## Problem 1\n",
    "\n",
    "Assume we generated option premiums for various strikes and maturities according to the geometric Brownian motion dynamics:\n",
    "\n",
    "$$\n",
    "dS_t = (r - q)S_t dt + \\sigma S_t dW_t \\text{ with } \\sigma = 40\\%.\n",
    "$$\n",
    "\n",
    "### (a) Heston stochastic volatility\n",
    "Calibrate to these option premiums (used as calibration instruments) to obtain $\\Theta = \\{\\theta, \\kappa, \\lambda, v_0, \\rho\\}$. What would you expect to get for the optimal parameter set $\\Theta^*$? Justify your answer.\n",
    "\n",
    "### (b) CGMY\n",
    "Calibrate to these option premiums (used as calibration instruments) to obtain $\\Theta = \\{\\sigma, \\nu, \\theta, Y\\}$. What would you expect to get for the optimal parameter set $\\Theta^*$? Justify your answer.\n",
    "\n",
    "### (c) VGSA\n",
    "Calibrate to these option premiums (used as calibration instruments) to obtain $\\Theta = \\{\\sigma, \\nu, \\theta, \\kappa, \\eta, \\lambda\\}$. What would you expect to get for the optimal parameter set $\\Theta^*$? Justify your answer.\n"
   ]
  },
  {
   "cell_type": "markdown",
   "metadata": {},
   "source": [
    "## a"
   ]
  },
  {
   "cell_type": "markdown",
   "metadata": {},
   "source": [
    "* $\\theta$ is the long-term variance\n",
    "* $\\kappa$ is the rate of mean-reversion to long-term variance\n",
    "* $\\lambda$ is the price of volatility risk\n",
    "* $v_0$ is the original variance\n",
    "* $\\rho$ is the correlation between asset return and variance"
   ]
  },
  {
   "cell_type": "markdown",
   "metadata": {},
   "source": [
    "## Expectation\n",
    "\n",
    "* If $\\sigma$ is 40% in geometric brownian motion, we expect the volatility of the asset is high. Therefore, we expect $\\theta$ to be high as well, we can expect the square root of $\\theta$ to be 0.4. \n",
    "* There is no enough information of k. k will be more significant if the volatility is more mean-reverting.\n",
    "* $\\lambda$ might adjust depending on the risk premium for volatility risk investors demand.\n",
    "* $v_0$ should be close to the implied volatility squared from the market options.\n",
    "* $\\rho$ typically has a negative value, indicating that when prices fall, volatility tends to increase."
   ]
  },
  {
   "cell_type": "markdown",
   "metadata": {},
   "source": [
    "## b\n",
    "* $\\sigma$ is a scale parameter for the volatility.\n",
    "* $\\nu$ is the overall level of activity.\n",
    "* $\\theta$ is the skewness or drift.\n",
    "* $Y$ controls the tail behavior of the process."
   ]
  },
  {
   "cell_type": "markdown",
   "metadata": {},
   "source": [
    "## Expectation\n",
    "\n",
    "$\\sigma$ would need to align with the market-implied volatility level. Given the initial dynamics, $\\nu$ and $\\theta$ would adjust to capture the option's risk-neutral dynamics not captured by $\\sigma$ alone, especially the jump and skewness characteristics. $Y$ influences the heaviness of the tails in the return distribution, crucial for option pricing, especially for out-of-the-money options."
   ]
  },
  {
   "cell_type": "markdown",
   "metadata": {},
   "source": [
    "## c\n",
    "* $\\sigma$ is the volatility parameter.\n",
    "* $\\nu$ measures the variance of the underlying variance process.\n",
    "* $\\theta$ is the drift parameter.\n",
    "* $\\kappa$ is the rate of mean reversion.\n",
    "* $\\eta$ is the volatility of the volatility parameter.\n",
    "* $\\lambda$ is the intensity of the jumps."
   ]
  },
  {
   "cell_type": "markdown",
   "metadata": {},
   "source": [
    "# Expectation\n",
    "\n",
    "Similar to the Heston model, we would expect $\\sigma$ to reflect the market's high volatility level. The mean reversion rate $\\kappa$ and the level of mean reversion $\\theta$ would adjust to fit the market data, likely indicating a preference for capturing the variance dynamics accurately. $\\eta$ and $\\lambda$ would calibrate to capture the volatility of volatility and the jump intensity in the market prices."
   ]
  },
  {
   "cell_type": "code",
   "execution_count": null,
   "metadata": {},
   "outputs": [],
   "source": []
  }
 ],
 "metadata": {
  "kernelspec": {
   "display_name": "Python 3.11.7 64-bit ('nlp': conda)",
   "name": "python3117jvsc74a57bd061144442c5bba5d28851d4d88bd107affeefd4f9a3e21babceae053099746efa"
  },
  "language_info": {
   "codemirror_mode": {
    "name": "ipython",
    "version": 3
   },
   "file_extension": ".py",
   "mimetype": "text/x-python",
   "name": "python",
   "nbconvert_exporter": "python",
   "pygments_lexer": "ipython3",
   "version": "3.11.7"
  },
  "orig_nbformat": 2
 },
 "nbformat": 4,
 "nbformat_minor": 2
}