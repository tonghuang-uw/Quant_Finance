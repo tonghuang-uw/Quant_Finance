{
 "cells": [
  {
   "cell_type": "code",
   "execution_count": 1,
   "metadata": {},
   "outputs": [],
   "source": [
    "import numpy as np\n",
    "import matplotlib.pyplot as plt"
   ]
  },
  {
   "cell_type": "markdown",
   "metadata": {},
   "source": [
    "# Problem 1\n",
    "Assume that the stock price follows the following process:\n",
    "\n",
    "$$\n",
    "dS_t = rS_tdt + \\sigma S_tdW_t\n",
    "$$\n",
    "\n",
    "Now, consider simulation of a European put with the following parameters: $S_0 = 100$, $K = 110$, $r = 4.75\\%$, $\\sigma = 20\\%$, and maturity $T = 0.5$.\n",
    "\n",
    "(a) Use the Euler method with the time step size $\\Delta t = 0.0005$ to generate 10,000 realizations of $S_T$ and compute the value of the discounted payoff\n",
    "\n",
    "$$\n",
    "V_0^{(i)} = e^{-rT}(K - S_T^{(i)})^+\n",
    "$$\n",
    "\n",
    "Estimate the mean and the variance of $V_0$. Compare the value of the put obtained using Monte Carlo simulation with the Black–Scholes formula.\n",
    "\n",
    "\n",
    "\n",
    "(c) Repeat the analysis in (b) using the Milstein method. Is there any significant improvement? If yes, why? If not, why not?"
   ]
  },
  {
   "cell_type": "code",
   "execution_count": 45,
   "metadata": {},
   "outputs": [],
   "source": [
    "# a\n",
    "\n",
    "dt = 0.0005\n",
    "N = 10000\n",
    "T = 0.5\n",
    "t = np.arange(0, T+dt/2, dt)\n",
    "s0 = 100\n",
    "K = 110\n",
    "r = 0.0475\n",
    "sigma = 0.2\n",
    "s = np.zeros((N, len(t)))\n",
    "s[:,0] = s0\n",
    "\n",
    "for i in range(N):\n",
    "    for k in range(1, len(t)):\n",
    "        s[i, k] = s[i, k-1] + r * s[i, k-1] * dt + sigma * s[i, k-1] * np.sqrt(dt) * np.random.randn()\n",
    "V = np.exp(-r*T) * np.maximum(K - s[:, -1], 0)"
   ]
  },
  {
   "cell_type": "code",
   "execution_count": 56,
   "metadata": {},
   "outputs": [
    {
     "name": "stdout",
     "output_type": "stream",
     "text": [
      "The mean of V0 is 10.257595558363597\n",
      "The variance of V0 is 96.97787974922744\n"
     ]
    }
   ],
   "source": [
    "mu = np.mean(V)\n",
    "var_v = np.var(V)\n",
    "print(\"The mean of V0 is {}\".format(mu))\n",
    "print(\"The variance of V0 is {}\".format(var_v))"
   ]
  },
  {
   "cell_type": "code",
   "execution_count": 50,
   "metadata": {},
   "outputs": [
    {
     "name": "stdout",
     "output_type": "stream",
     "text": [
      "The value of put from black scholes is 10.28669994249168\n"
     ]
    }
   ],
   "source": [
    "# Black scholes put\n",
    "\n",
    "from scipy.stats import norm\n",
    "s0 = 100\n",
    "K = 110\n",
    "r = 0.0475\n",
    "sigma = 0.2\n",
    "T = 0.5\n",
    "def d1(s0, k, r, sigma, T):\n",
    "    nume = np.log(s0/k) + (r + sigma**2 / 2) * T\n",
    "    den = sigma * np.sqrt(T)\n",
    "    return nume/den\n",
    "\n",
    "def d2(d1, sigma, T):\n",
    "    return d1 - sigma * np.sqrt(T)\n",
    "\n",
    "def put(s0, k, r, sigma, T):\n",
    "    d_1 = d1(s0, k, r, sigma, T)\n",
    "    d_2 = d2(d_1, sigma, T)\n",
    "    return k * np.exp(-r*T) * norm.cdf(-d_2) - s0 * norm.cdf(-d_1)\n",
    "\n",
    "v_put = put(s0, K, r, sigma, T)\n",
    "print(\"The value of put from black scholes is {}\".format(v_put))"
   ]
  },
  {
   "cell_type": "markdown",
   "metadata": {},
   "source": [
    "## (b) Repeat the above analysis using the antithetic variates. What can you conclude?"
   ]
  },
  {
   "cell_type": "code",
   "execution_count": 53,
   "metadata": {},
   "outputs": [],
   "source": [
    "dt = 0.0005\n",
    "N = 10000\n",
    "T = 0.5\n",
    "t = np.arange(0, T+dt/2, dt)\n",
    "s0 = 100\n",
    "K = 110\n",
    "r = 0.0475\n",
    "sigma = 0.2\n",
    "s_plus = np.zeros((N, len(t)))\n",
    "s_minus = np.zeros((N, len(t)))\n",
    "s_plus[:,0] = s0\n",
    "s_minus[:,0] = s0\n",
    "\n",
    "for i in range(N):\n",
    "    for k in range(1, len(t)):\n",
    "        s_plus[i, k] = s_plus[i, k-1] + r * s_plus[i, k-1] * dt + sigma * s[i, k-1] * np.sqrt(dt) * np.random.randn()\n",
    "        s_minus[i, k] = s_minus[i, k-1] + r* s_minus[i, k-1] * dt - sigma * s[i, k-1] * np.sqrt(dt) * np.random.randn()\n",
    "\n",
    "v = np.exp(-r * T) * np.maximum(K - s_plus[:, -1], 0)\n",
    "v_anti = np.exp(-r * T) * np.maximum(K - s_minus[:, -1], 0)\n",
    "call_avg = (v + v_anti)/2"
   ]
  },
  {
   "cell_type": "code",
   "execution_count": 62,
   "metadata": {},
   "outputs": [
    {
     "name": "stdout",
     "output_type": "stream",
     "text": [
      "The mean of the estimator is 10.08128788868456\n",
      "The variance of the estimator is 57.88059217737726\n",
      "The variance reduction of we get from this method is 40.315675773641196 %\n"
     ]
    }
   ],
   "source": [
    "mu = np.mean(call_avg)\n",
    "var = np.var(call_avg)\n",
    "\n",
    "print(\"The mean of the estimator is {}\".format(mu))\n",
    "print(\"The variance of the estimator is {}\".format(var))\n",
    "print(\"The variance reduction of we get from this method is {} %\".format((var_v - var) / var_v * 100))"
   ]
  },
  {
   "cell_type": "markdown",
   "metadata": {},
   "source": [
    "We noticed the estimator is roughly the same, but we have variance reduction of 40 percent which is a really good outcome."
   ]
  },
  {
   "cell_type": "markdown",
   "metadata": {},
   "source": [
    "# Problem 2\n",
    "\n",
    "Assume that the stock price follows the following process:\n",
    "\n",
    "$$\n",
    "dS_t = rS_tdt + \\sigma(S_t, t)S_tdW_t\n",
    "$$\n",
    "\n",
    "For the following parameters: spot price $S_0 = 100$, strike price $ K = 110 $, risk-free rate $r = 4.75\\% $, local volatility surface $ \\sigma(S, t) = 0.5e^{-t(100/S)^{0.3}} $, and maturity $ T = 1.0 $, price a European put option via\n",
    "\n",
    "(a) finite differences\n",
    "\n",
    "(b) Monte Carlo simulation\n",
    "\n",
    "(c) Monte Carlo simulation with a control variate\n",
    "\n",
    "and compare."
   ]
  },
  {
   "cell_type": "code",
   "execution_count": null,
   "metadata": {},
   "outputs": [],
   "source": []
  }
 ],
 "metadata": {
  "kernelspec": {
   "display_name": "Python 3.11.7 64-bit ('nlp': conda)",
   "name": "python3117jvsc74a57bd061144442c5bba5d28851d4d88bd107affeefd4f9a3e21babceae053099746efa"
  },
  "language_info": {
   "codemirror_mode": {
    "name": "ipython",
    "version": 3
   },
   "file_extension": ".py",
   "mimetype": "text/x-python",
   "name": "python",
   "nbconvert_exporter": "python",
   "pygments_lexer": "ipython3",
   "version": "3.11.7"
  },
  "orig_nbformat": 2
 },
 "nbformat": 4,
 "nbformat_minor": 2
}