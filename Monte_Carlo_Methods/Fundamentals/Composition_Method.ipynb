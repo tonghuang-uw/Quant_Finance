{
 "cells": [
  {
   "cell_type": "code",
   "execution_count": 1,
   "metadata": {},
   "outputs": [],
   "source": [
    "import numpy as np\n",
    "import matplotlib.pyplot as plt"
   ]
  },
  {
   "cell_type": "markdown",
   "metadata": {},
   "source": [
    "## Composition Method\n",
    "\n",
    "This method is used to sample from mixture distributions.  That is, from random variables $X$ whose cdf is of the form\n",
    "\n",
    "$$F_{X}(x) = \\sum_{i = 1}^{n}p_iF_i(x)$$\n",
    "\n",
    "where each $p_i > 0$ and $\\sum_{i = 1}^{n}p_i = 1$ and each $F_i$ is a cdf.\n",
    "\n",
    "(Note that everything described here also works for countably infinite mixtures just by setting $n = \\infty$.)\n",
    "\n",
    "The key idea in this method is to think of $X$ as being composed of two separate random variables.  In particular, suppose that $I$ is a discrete random variable with probability mass function\n",
    "\n",
    "$$p_{I}(i) = \\left\\{ \\begin{array}{cc} i & i\\in\\mathbb{Z}^{+} \\\\ 0 & \\textrm{otherwise} \\end{array} \\right.$$\n",
    "\n",
    "and suppose that $Y_i$ is a family of distributions with the cdf's:\n",
    "\n",
    "$$\\mathbb{P}\\left[Y_i \\leq y \\:\\vert\\: I = i\\right] = F_i(y)$$\n",
    "\n",
    "and suppose that $I$ and the $Y_i$ are all mutually independent.  We can generate $X$ with the following algorithm:\n",
    "\n",
    "1) Generate a value of $I$.\n",
    "\n",
    "2) If $I = i$, then generate a value of $Y_i$.\n",
    "\n",
    "3) Set $X = Y_i$.\n",
    "\n",
    "To show that this $X$ has the desired distribution, note that\n",
    "\n",
    "$$\\begin{aligned}\n",
    "\\mathbb{P}\\left[X \\leq x\\right] &= \\sum_{i = 1}^{n}\\mathbb{P}\\left[X \\leq x\\:\\vert\\: I = i\\right]\\mathbb{P}\\left[I = i\\right] \\\\\n",
    "&= \\sum_{i = 1}^{n}\\mathbb{P}\\left[Y_i \\leq x\\right]\\mathbb{P}\\left[I = i\\right] \\\\\n",
    "&= \\sum_{i = 1}^{n}F_i(x)p_i \\\\\n",
    "&= F_{X}(x)\n",
    "\\end{aligned}$$"
   ]
  },
  {
   "cell_type": "markdown",
   "metadata": {},
   "source": [
    "## Composition method (pdfs)\n",
    "\n",
    "The composition method can also be phrased in terms of pdfs and pmfs rather than cdfs.  For instance, suppose the random variable $X$ has a pdf\n",
    "\n",
    "$$f_{X}(x) = \\sum_{i = 1}^{n}p_if_i(x)$$\n",
    "\n",
    "where each $p_i > 0$ and $\\sum_{i = 1}^{n}p_i = 1$ and each $f_i$ is a pdf.  We can generate $X$ with the following algorithm:\n",
    "\n",
    "1) Generate a value of $I$ as above.\n",
    "\n",
    "2) If $I = i$, then generate a value of the random varaible $Y_i$ with pdf $f_i$.\n",
    "\n",
    "3) Set $X = Y_i$."
   ]
  },
  {
   "cell_type": "markdown",
   "metadata": {},
   "source": [
    "## Composition Method (uncountable version)\n",
    "\n",
    "The composition method also has a straightforward generalization to uncountable mixture models.  This version is easier to phrase in terms of pdfs, so we will assume that all involved random variables have a pdf.\n",
    "\n",
    "Suppose that $X$ can be written in the form\n",
    "\n",
    "$$f_{X}(x) = \\int_{D}f_{X|Y}(x; y)f_{Y}(y)\\,\\textrm{d}y$$\n",
    "\n",
    "where $D$ is some measurable set, $f_{Y}:D\\to\\mathbb{R}$ is non-negative and satisfies\n",
    "\n",
    "$$\\int_{D}f_{Y}(y)\\,\\textrm{d}y = 1$$\n",
    "\n",
    "and for each fixed $y\\in D$, the function $f_{X|Y}(\\cdot; y)$ is non-negative and satisfies\n",
    "\n",
    "$$\\int_{\\mathbb{R}}f_{X|Y}(x; y)\\,\\textrm{d}x = 1$$\n",
    "\n",
    "We can generate a value of $X$ with the following method:\n",
    "\n",
    "1) Generate a random variable $Y$ from the pdf $f_{Y}$.\n",
    "\n",
    "2) If $Y = y$, then generate a value of $X$ from the pdf $f_{X|Y}(\\cdot; y)$."
   ]
  },
  {
   "cell_type": "markdown",
   "metadata": {},
   "source": [
    "## Composition Method - Joint Distributions\n",
    "\n",
    "Suppose that we want to generate two random variables $X$ and $Y$ with joint pdf $f_{XY}$.  We can write this pdf as\n",
    "\n",
    "$$f_{XY}(x, y) = f_{X|Y}(x; y)f_{Y}(y)$$\n",
    "\n",
    "where $f_{Y}$ is the marginal distribution of $Y$ and $f_{X|Y}$ is the conditional distribution of $X$ given $Y=y$.  We can therefore generate $Y$ according to its marginal distribution and then generate $X$ using the composition method.  This easily generalizes to $n$ random variables.\n",
    "\n",
    "As a particularly important (although perhaps fairly obvious) example, suppose that $X$ and $Y$ are independent, so that\n",
    "\n",
    "$$f_{XY}(x, y) = f_{X}(x)f_{Y}(y)$$\n",
    "\n",
    "We can generate the pair $(X, Y)$ by first generating $Y$ according to its marginal distribution, and then generating $X$ according to its marginal distribution (regardless of the value of $Y$).  Of course, we could also do this in the other order and generate first $X$ and then $Y$."
   ]
  },
  {
   "cell_type": "markdown",
   "metadata": {},
   "source": [
    "### Example: Uniform distribution over a rectangle\n",
    "\n",
    "Suppose $X$ and $Y$ are uniformly distributed over the rectangle $[0, a]\\times [0, b]$.  That is,\n",
    "\n",
    "$$f_{XY}(x, y) = \\left\\{ \\begin{array}{cc} \\frac{1}{ab} & 0 \\leq x \\leq a \\:\\textrm{ and }\\: 0 \\leq y \\leq b \\\\ 0 & \\textrm{otherwise} \\end{array} \\right.$$\n",
    "\n",
    "The marginal distributions of $X$ and $Y$ are\n",
    "\n",
    "$$f_{X}(x) = \\frac{1}{a}\\cdot 1_{[0, a]}(x) \\:\\textrm{ and }\\: f_{Y}(y) = \\frac{1}{b}\\cdot 1_{[0, b]}(y)$$\n",
    "\n",
    "and $f_{XY}(x, y) = f_{X}(x)f_{Y}(y)$, so $X$ and $Y$ are independent.  We can therefore generate the random vector $(X, Y)$ by first generating $X\\sim U(0, a)$ and then generating $Y\\sim U(0, b)$."
   ]
  },
  {
   "cell_type": "code",
   "execution_count": null,
   "metadata": {},
   "outputs": [],
   "source": []
  }
 ],
 "metadata": {
  "kernelspec": {
   "display_name": "Python 3.11.7 64-bit",
   "name": "python3117jvsc74a57bd061144442c5bba5d28851d4d88bd107affeefd4f9a3e21babceae053099746efa"
  },
  "language_info": {
   "codemirror_mode": {
    "name": "ipython",
    "version": 3
   },
   "file_extension": ".py",
   "mimetype": "text/x-python",
   "name": "python",
   "nbconvert_exporter": "python",
   "pygments_lexer": "ipython3",
   "version": "3.11.7"
  },
  "orig_nbformat": 2
 },
 "nbformat": 4,
 "nbformat_minor": 2
}