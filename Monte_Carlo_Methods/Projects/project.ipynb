{
 "cells": [
  {
   "cell_type": "code",
   "execution_count": 3,
   "metadata": {},
   "outputs": [],
   "source": [
    "import numpy as np\n",
    "import matplotlib.pyplot as plt\n",
    "import pandas as pd\n",
    "import yfinance as yf"
   ]
  },
  {
   "cell_type": "code",
   "execution_count": 120,
   "metadata": {},
   "outputs": [
    {
     "data": {
      "text/html": "<div>\n<style scoped>\n    .dataframe tbody tr th:only-of-type {\n        vertical-align: middle;\n    }\n\n    .dataframe tbody tr th {\n        vertical-align: top;\n    }\n\n    .dataframe thead th {\n        text-align: right;\n    }\n</style>\n<table border=\"1\" class=\"dataframe\">\n  <thead>\n    <tr style=\"text-align: right;\">\n      <th></th>\n      <th>T</th>\n      <th>strike</th>\n      <th>bid</th>\n      <th>ask</th>\n      <th>r</th>\n      <th>q</th>\n      <th>Forward Price</th>\n    </tr>\n  </thead>\n  <tbody>\n    <tr>\n      <th>35</th>\n      <td>184</td>\n      <td>1375</td>\n      <td>82.2</td>\n      <td>84.5</td>\n      <td>0.743682</td>\n      <td>2.098077</td>\n      <td>1399.140991</td>\n    </tr>\n    <tr>\n      <th>36</th>\n      <td>184</td>\n      <td>1400</td>\n      <td>66.6</td>\n      <td>68.8</td>\n      <td>0.743682</td>\n      <td>2.098077</td>\n      <td>1399.146729</td>\n    </tr>\n    <tr>\n      <th>37</th>\n      <td>184</td>\n      <td>1425</td>\n      <td>52.5</td>\n      <td>54.5</td>\n      <td>0.743682</td>\n      <td>2.098077</td>\n      <td>1399.001953</td>\n    </tr>\n    <tr>\n      <th>38</th>\n      <td>184</td>\n      <td>1450</td>\n      <td>40.1</td>\n      <td>41.9</td>\n      <td>0.743682</td>\n      <td>2.098077</td>\n      <td>1399.859985</td>\n    </tr>\n    <tr>\n      <th>39</th>\n      <td>184</td>\n      <td>1475</td>\n      <td>29.5</td>\n      <td>31.0</td>\n      <td>0.743682</td>\n      <td>2.098077</td>\n      <td>1399.714966</td>\n    </tr>\n    <tr>\n      <th>40</th>\n      <td>269</td>\n      <td>1375</td>\n      <td>95.5</td>\n      <td>98.5</td>\n      <td>0.883147</td>\n      <td>2.154654</td>\n      <td>1393.822876</td>\n    </tr>\n    <tr>\n      <th>41</th>\n      <td>269</td>\n      <td>1400</td>\n      <td>80.4</td>\n      <td>83.4</td>\n      <td>0.883147</td>\n      <td>2.154654</td>\n      <td>1393.306274</td>\n    </tr>\n    <tr>\n      <th>42</th>\n      <td>269</td>\n      <td>1425</td>\n      <td>66.5</td>\n      <td>69.1</td>\n      <td>0.883147</td>\n      <td>2.154654</td>\n      <td>1393.594482</td>\n    </tr>\n    <tr>\n      <th>43</th>\n      <td>269</td>\n      <td>1450</td>\n      <td>53.7</td>\n      <td>56.4</td>\n      <td>0.883147</td>\n      <td>2.154654</td>\n      <td>1393.631104</td>\n    </tr>\n    <tr>\n      <th>44</th>\n      <td>269</td>\n      <td>1475</td>\n      <td>42.4</td>\n      <td>44.8</td>\n      <td>0.883147</td>\n      <td>2.154654</td>\n      <td>1393.516724</td>\n    </tr>\n  </tbody>\n</table>\n</div>",
      "text/plain": "      T  strike   bid   ask         r         q  Forward Price\n35  184    1375  82.2  84.5  0.743682  2.098077    1399.140991\n36  184    1400  66.6  68.8  0.743682  2.098077    1399.146729\n37  184    1425  52.5  54.5  0.743682  2.098077    1399.001953\n38  184    1450  40.1  41.9  0.743682  2.098077    1399.859985\n39  184    1475  29.5  31.0  0.743682  2.098077    1399.714966\n40  269    1375  95.5  98.5  0.883147  2.154654    1393.822876\n41  269    1400  80.4  83.4  0.883147  2.154654    1393.306274\n42  269    1425  66.5  69.1  0.883147  2.154654    1393.594482\n43  269    1450  53.7  56.4  0.883147  2.154654    1393.631104\n44  269    1475  42.4  44.8  0.883147  2.154654    1393.516724"
     },
     "execution_count": 120,
     "metadata": {},
     "output_type": "execute_result"
    }
   ],
   "source": [
    "df = pd.read_csv('call.csv')\n",
    "df = df.iloc[:,1:]\n",
    "df = df.rename({'maturity (in days)': 'T'}, axis = 1)\n",
    "df.tail(10)"
   ]
  },
  {
   "cell_type": "markdown",
   "metadata": {},
   "source": [
    "# Part one\n",
    "\n",
    "## Free arbitrage restriction"
   ]
  },
  {
   "cell_type": "code",
   "execution_count": 5,
   "metadata": {},
   "outputs": [],
   "source": [
    "t = df['T'].unique()\n",
    "\n",
    "# Monotonicity\n",
    "for time in t:\n",
    "    new_df = df[df['T'] == time]\n",
    "    ask = new_df['ask'].shift()[1:]\n",
    "    bid = new_df['bid'][1:]\n",
    "    for i in range(len(ask)):\n",
    "        if ask.iloc[i] <= bid.iloc[i]:\n",
    "            print(\"Based on the rule of monotonicity, there is immediate arbitrage opportunity!\")\n",
    "\n",
    "# Slope\n",
    "for time in t:\n",
    "    new_df = df[df['T'] == time]\n",
    "    difference = new_df['bid'].shift() - new_df['ask']\n",
    "    strike_diff = (new_df['strike'] - new_df['strike'].shift()) * np.exp(-new_df['r'] * new_df['T']/360)\n",
    "    diff = difference[:] - strike_diff[:]\n",
    "    for i in diff[1:]:\n",
    "        if i >= 0:\n",
    "            print(\"Based on the rule of Slope, there is immediate arbitrage opportunity!\")"
   ]
  },
  {
   "cell_type": "markdown",
   "metadata": {},
   "source": [
    "# Part two"
   ]
  },
  {
   "cell_type": "markdown",
   "metadata": {},
   "source": [
    "Simulation of VGSA process\n",
    "\n",
    "Try: \n",
    "* $\\sigma$ = 0.2\n",
    "* $\\nu$ = 0.1\n",
    "* $\\theta$ = -0.4\n",
    "* $\\kappa$ = 2\n",
    "* $\\lambda$ = 1\n",
    "* $\\eta$ = 4.5\n"
   ]
  },
  {
   "cell_type": "code",
   "execution_count": 159,
   "metadata": {},
   "outputs": [],
   "source": [
    "def gamma(u):\n",
    "    return np.sqrt(k ** 2 - 2 * lam ** 2 * 1j * u)\n",
    "\n",
    "def A(t, u):\n",
    "    return np.exp(k**2 * eta * t / (lam ** 2))/ (np.cosh(gamma(u) * t / 2) + k/gamma(u) * np.sinh(gamma(u)*t/2)) ** (2 * k * eta / (lam ** 2))\n",
    "\n",
    "def B(t, u):\n",
    "    return (2 * 1j * u) / (k + gamma(u) * np.cosh(gamma(u) * t / 2) / np.sinh(gamma(u) * t / 2))\n",
    "\n",
    "def characteristic_function_cir(u, t, y0, k, eta, lam):\n",
    "    return A(t, u) * np.exp(B(t, u) * y0)\n",
    "\n",
    "def characteristic_function_vg(u):\n",
    "    return -1/nu * np.log(1 - 1j * u * theta * nu + sigma**2 * nu * u**2 / 2)\n"
   ]
  },
  {
   "cell_type": "code",
   "execution_count": 228,
   "metadata": {},
   "outputs": [
    {
     "name": "stderr",
     "output_type": "stream",
     "text": [
      "/var/folders/qn/03t76jqd1t31l24v1ryyyxkr0000gn/T/ipykernel_13361/3426121314.py:43: ComplexWarning: Casting complex values to real discards the imaginary part\n",
      "  s[i-1] = s[i-2] + (r-q) * dt + w + x[i-1]\n"
     ]
    }
   ],
   "source": [
    "sigma = 0.2\n",
    "nu = 0.1\n",
    "theta = -0.4\n",
    "k = 2\n",
    "lam = 1\n",
    "eta = 4.5\n",
    "\n",
    "N = 50\n",
    "num_paths = 10000\n",
    "data = df.iloc[1,:]\n",
    "T = 2\n",
    "T = T / 360\n",
    "dt = T / N\n",
    "t = np.arange(0, T+dt/2, dt)\n",
    "x = np.zeros_like(t)\n",
    "y = np.zeros_like(t)\n",
    "s = np.zeros_like(t)\n",
    "\n",
    "\n",
    "x_f = data['Forward Price']\n",
    "r = data['r']\n",
    "q = data['q']\n",
    "s0 = x_f * np.exp(-(r-q) * T)\n",
    "\n",
    "s[0] = np.log(s0)\n",
    "x[0] = 0\n",
    "y[0] = 0.03\n",
    "\n",
    "s_paths = np.zeros((num_paths, len(s)))\n",
    "for num in range(num_paths):\n",
    "    for i in range(N):\n",
    "        z = np.random.randn()\n",
    "        y[i+1] = y[i] + k * (eta - y[i]) * dt + lam * np.sqrt(y[i]) * np.sqrt(dt) * z + lam**2 / 4 * dt * (z**2 - 1)\n",
    "        t_hat = dt/2 * (y[i] + y[i+1])\n",
    "        g = np.random.gamma(t_hat/ nu, nu)\n",
    "        z = np.random.randn()\n",
    "        x[i+1] = theta * g + sigma * sigma * np.sqrt(g) * z\n",
    "        \n",
    "    for i in range(2, N+1):\n",
    "        first = np.log(characteristic_function_cir(-1j*characteristic_function_vg(-1j), (i-1) * dt, 1/nu, k, eta, lam))\n",
    "        second = np.log(characteristic_function_cir(-1j*characteristic_function_vg(-1j), (i) * dt, 1/nu, k, eta, lam))\n",
    "        w = first - second\n",
    "        s[i-1] = s[i-2] + (r-q) * dt + w + x[i-1]\n",
    "    s_paths[num] = s"
   ]
  },
  {
   "cell_type": "code",
   "execution_count": 229,
   "metadata": {},
   "outputs": [
    {
     "data": {
      "text/plain": "(10000, 51)"
     },
     "execution_count": 229,
     "metadata": {},
     "output_type": "execute_result"
    }
   ],
   "source": []
  },
  {
   "cell_type": "code",
   "execution_count": 230,
   "metadata": {},
   "outputs": [
    {
     "data": {
      "text/plain": "[<matplotlib.lines.Line2D at 0x14dbedd50>]"
     },
     "execution_count": 230,
     "metadata": {},
     "output_type": "execute_result"
    },
    {
     "data": {
      "image/png": "[encoded data removed]",
      "text/plain": "<Figure size 640x480 with 1 Axes>"
     },
     "metadata": {},
     "output_type": "display_data"
    }
   ],
   "source": []
  },
  {
   "cell_type": "code",
   "execution_count": null,
   "metadata": {},
   "outputs": [],
   "source": []
  }
 ],
 "metadata": {
  "kernelspec": {
   "display_name": "Python 3.11.7 64-bit ('nlp': conda)",
   "name": "python3117jvsc74a57bd061144442c5bba5d28851d4d88bd107affeefd4f9a3e21babceae053099746efa"
  },
  "language_info": {
   "name": "python",
   "version": ""
  },
  "orig_nbformat": 2
 },
 "nbformat": 4,
 "nbformat_minor": 2
}