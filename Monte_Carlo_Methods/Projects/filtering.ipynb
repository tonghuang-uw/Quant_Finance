{
 "cells": [
  {
   "cell_type": "code",
   "execution_count": 2,
   "metadata": {},
   "outputs": [],
   "source": [
    "import numpy as np\n",
    "import yfinance as yf"
   ]
  },
  {
   "cell_type": "code",
   "execution_count": 13,
   "metadata": {},
   "outputs": [
    {
     "name": "stderr",
     "output_type": "stream",
     "text": [
      "[*********************100%%**********************]  2 of 2 completed\n"
     ]
    }
   ],
   "source": [
    "df = yf.download(['^GSPC', 'USDJPY=X'] , start = '2001-11-11', end = '2011-11-11')\n",
    "df = df['Adj Close']"
   ]
  },
  {
   "cell_type": "code",
   "execution_count": 14,
   "metadata": {},
   "outputs": [
    {
     "data": {
      "text/html": "<div>\n<style scoped>\n    .dataframe tbody tr th:only-of-type {\n        vertical-align: middle;\n    }\n\n    .dataframe tbody tr th {\n        vertical-align: top;\n    }\n\n    .dataframe thead th {\n        text-align: right;\n    }\n</style>\n<table border=\"1\" class=\"dataframe\">\n  <thead>\n    <tr style=\"text-align: right;\">\n      <th></th>\n      <th>USDJPY=X</th>\n      <th>^GSPC</th>\n    </tr>\n    <tr>\n      <th>Date</th>\n      <th></th>\n      <th></th>\n    </tr>\n  </thead>\n  <tbody>\n    <tr>\n      <th>2001-11-12</th>\n      <td>120.570000</td>\n      <td>1118.329956</td>\n    </tr>\n    <tr>\n      <th>2001-11-13</th>\n      <td>121.419998</td>\n      <td>1139.089966</td>\n    </tr>\n    <tr>\n      <th>2001-11-14</th>\n      <td>121.529999</td>\n      <td>1141.209961</td>\n    </tr>\n    <tr>\n      <th>2001-11-15</th>\n      <td>122.449997</td>\n      <td>1142.239990</td>\n    </tr>\n    <tr>\n      <th>2001-11-16</th>\n      <td>122.870003</td>\n      <td>1138.650024</td>\n    </tr>\n    <tr>\n      <th>...</th>\n      <td>...</td>\n      <td>...</td>\n    </tr>\n    <tr>\n      <th>2011-11-04</th>\n      <td>78.053001</td>\n      <td>1253.229980</td>\n    </tr>\n    <tr>\n      <th>2011-11-07</th>\n      <td>78.129997</td>\n      <td>1261.119995</td>\n    </tr>\n    <tr>\n      <th>2011-11-08</th>\n      <td>78.077003</td>\n      <td>1275.920044</td>\n    </tr>\n    <tr>\n      <th>2011-11-09</th>\n      <td>77.708000</td>\n      <td>1229.099976</td>\n    </tr>\n    <tr>\n      <th>2011-11-10</th>\n      <td>77.758003</td>\n      <td>1239.699951</td>\n    </tr>\n  </tbody>\n</table>\n<p>2609 rows × 2 columns</p>\n</div>",
      "text/plain": "              USDJPY=X        ^GSPC\nDate                               \n2001-11-12  120.570000  1118.329956\n2001-11-13  121.419998  1139.089966\n2001-11-14  121.529999  1141.209961\n2001-11-15  122.449997  1142.239990\n2001-11-16  122.870003  1138.650024\n...                ...          ...\n2011-11-04   78.053001  1253.229980\n2011-11-07   78.129997  1261.119995\n2011-11-08   78.077003  1275.920044\n2011-11-09   77.708000  1229.099976\n2011-11-10   77.758003  1239.699951\n\n[2609 rows x 2 columns]"
     },
     "execution_count": 14,
     "metadata": {},
     "output_type": "execute_result"
    }
   ],
   "source": [
    "df"
   ]
  },
  {
   "cell_type": "markdown",
   "metadata": {},
   "source": [
    "# Assume they follow Heston stochastic volatility model"
   ]
  },
  {
   "cell_type": "code",
   "execution_count": null,
   "metadata": {},
   "outputs": [],
   "source": []
  }
 ],
 "metadata": {
  "kernelspec": {
   "display_name": "Python 3.11.7 64-bit ('nlp': conda)",
   "name": "python3117jvsc74a57bd061144442c5bba5d28851d4d88bd107affeefd4f9a3e21babceae053099746efa"
  },
  "language_info": {
   "codemirror_mode": {
    "name": "ipython",
    "version": 3
   },
   "file_extension": ".py",
   "mimetype": "text/x-python",
   "name": "python",
   "nbconvert_exporter": "python",
   "pygments_lexer": "ipython3",
   "version": "3.11.7"
  },
  "orig_nbformat": 2
 },
 "nbformat": 4,
 "nbformat_minor": 2
}