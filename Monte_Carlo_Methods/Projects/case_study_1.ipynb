{
 "cells": [
  {
   "cell_type": "code",
   "execution_count": 3,
   "metadata": {},
   "outputs": [],
   "source": [
    "import numpy as np\n",
    "import matplotlib.pyplot as plt\n",
    "import pandas as pd"
   ]
  },
  {
   "cell_type": "markdown",
   "metadata": {},
   "source": [
    "Repeat the calibration procedure that was done in Sections 7.3.1 and 7.3.2 using the\n",
    "same optimizer for the following objective functions:\n",
    "\n",
    "* sum of relative errors (SRE)\n",
    "* sum of the absolute errors (SAE)\n",
    "* sum of the squares of absolute errors (SSAE)\n",
    "\n",
    "Compare the results, write down your findings and observations, and conclude on the\n",
    "effect of the objective function on the results."
   ]
  },
  {
   "cell_type": "markdown",
   "metadata": {},
   "source": [
    "# 7.3.1\n"
   ]
  },
  {
   "cell_type": "code",
   "execution_count": 23,
   "metadata": {},
   "outputs": [],
   "source": [
    "data1 = {\n",
    "    \"maturity\" : [1, 2, 3, 6, 12], \n",
    "    \"date_1\": [3.1175, 3.2738, 3.4200, 3.4275, 3.4213], \n",
    "    \"date_2\": [0.2647, 0.2890, 0.3140, 0.4657, 0.7975]\n",
    "}\n",
    "\n",
    "data2 = {\n",
    "    \"term\": [2, 3, 5, 7, 10, 15, 30],\n",
    "    \"date_1\": [2.6967, 3.1557, 3.8111, 4.1497, 4.3638, 4.3753, 4.2772],\n",
    "    \"date_2\": [1.0481, 1.5577, 2.5569, 3.1850, 3.7225, 4.1683, 4.4407]\n",
    "}"
   ]
  },
  {
   "cell_type": "code",
   "execution_count": 24,
   "metadata": {},
   "outputs": [],
   "source": [
    "df_libor = pd.DataFrame(data1)\n",
    "df_swap = pd.DataFrame(data2)"
   ]
  },
  {
   "cell_type": "markdown",
   "metadata": {},
   "source": [
    "# Define the close form solution for zero coupon bond prices"
   ]
  },
  {
   "cell_type": "code",
   "execution_count": 86,
   "metadata": {},
   "outputs": [],
   "source": [
    "def P(A, B, r):\n",
    "    return np.exp(A - B * r)\n",
    "\n",
    "def B(t, T, k):\n",
    "    return (1 - np.exp(-k * (T - t))) / k\n",
    "\n",
    "def A(t, T, theta, k, sigma):\n",
    "    first = (theta - sigma**2 / (2 * k**2))\n",
    "    second = B(t, T, k) - (T - t)\n",
    "    third = (sigma ** 2)/(4 * k) * B(t, T, k) ** 2\n",
    "\n",
    "    return first * second - third"
   ]
  },
  {
   "cell_type": "code",
   "execution_count": 87,
   "metadata": {},
   "outputs": [],
   "source": [
    "from scipy.optimize import minimize"
   ]
  },
  {
   "cell_type": "code",
   "execution_count": 165,
   "metadata": {},
   "outputs": [],
   "source": [
    "def objective_function(params, data1, data2):\n",
    "    k, theta, sigma, r0 = params\n",
    "    errors = []\n",
    "\n",
    "    # Iterate over LIBOR data to calculate errors\n",
    "    for maturity, rate in zip(data1['maturity'], data1['date_1']):\n",
    "        T = maturity / 12  # Convert months to years for maturity\n",
    "        a = A(0, T, theta, k, sigma)\n",
    "        b = B(0, T, k)\n",
    "        bond_price = P(a, b, r0)\n",
    "        libor_rate = 100 * ((1 / bond_price) - 1) / T  # Convert to annual rate\n",
    "        market_yield = rate / 100\n",
    "        ssre = ((libor_rate - market_yield) / market_yield) ** 2\n",
    "        errors.append(ssre)\n",
    "\n",
    "    # Iterate over swap data to calculate errors\n",
    "    for term, rate in zip(data2['term'], data2['date_1']):\n",
    "        T = term  # The term is already in years\n",
    "        dt = 0.5  # Assuming payments every half-year\n",
    "        n = int(term / dt)\n",
    "        \n",
    "        # Calculate bond price for swap's maturity\n",
    "        a_T = A(0, T, theta, k, sigma)\n",
    "        b_T = B(0, T, k)\n",
    "        bond_price_T = P(a_T, b_T, r0)\n",
    "        \n",
    "        # Calculate the sum of the present value of cash flows\n",
    "        sum_p = sum(P(A(0, i * dt, theta, k, sigma), B(0, i * dt, k), r0) for i in range(1, n+1))\n",
    "        \n",
    "        # Calculate the swap rate\n",
    "        swap_rate = 100 * (1 - bond_price_T) / (dt * sum_p)\n",
    "        \n",
    "        # Compare to market swap rate\n",
    "        market_yield = rate / 100\n",
    "        ssre = ((swap_rate - market_yield) / market_yield) ** 2\n",
    "        errors.append(ssre)\n",
    "\n",
    "    # Return the sum of squared relative errors\n",
    "    return sum(errors)"
   ]
  },
  {
   "cell_type": "code",
   "execution_count": 166,
   "metadata": {},
   "outputs": [],
   "source": [
    "initial_guess = [0.1, 0.05, 0.1, 0.03]"
   ]
  },
  {
   "cell_type": "code",
   "execution_count": 167,
   "metadata": {},
   "outputs": [],
   "source": [
    "result = minimize(objective_function, initial_guess, args=(data1, data2))"
   ]
  },
  {
   "cell_type": "code",
   "execution_count": 168,
   "metadata": {},
   "outputs": [
    {
     "name": "stdout",
     "output_type": "stream",
     "text": [
      "The parameters [kappa, theta, sigma, r0] are 0.14972198544325188, 0.0004923331007007624, 1.0761959088985052e-07, 0.0003108633120031689\n"
     ]
    }
   ],
   "source": [
    "params1 = result.x\n",
    "print(\"The parameters [kappa, theta, sigma, r0] are {}, {}, {}, {}\".format(params1[0], params1[1], params1[2], params1[3]))"
   ]
  },
  {
   "cell_type": "markdown",
   "metadata": {},
   "source": [
    "# Use the second date to calibrate"
   ]
  },
  {
   "cell_type": "code",
   "execution_count": 128,
   "metadata": {},
   "outputs": [],
   "source": [
    "def objective_function(params, data1, data2):\n",
    "    k, theta, sigma, r0 = params\n",
    "    errors = []\n",
    "\n",
    "    # Iterate over LIBOR data to calculate errors\n",
    "    for maturity, rate in zip(data1['maturity'], data1['date_2']):\n",
    "        T = maturity / 12  # Convert months to years for maturity\n",
    "        a = A(0, T, theta, k, sigma)\n",
    "        b = B(0, T, k)\n",
    "        bond_price = P(a, b, r0)\n",
    "        libor_rate = 100 * ((1 / bond_price) - 1) / T  # Convert to annual rate\n",
    "        market_yield = rate / 100\n",
    "        ssre = ((libor_rate - market_yield) / market_yield) ** 2\n",
    "        errors.append(ssre)\n",
    "\n",
    "    # Iterate over swap data to calculate errors\n",
    "    for term, rate in zip(data2['term'], data2['date_2']):\n",
    "        T = term  # The term is already in years\n",
    "        dt = 0.5  # Assuming payments every half-year\n",
    "        n = int(term / dt)\n",
    "        \n",
    "        # Calculate bond price for swap's maturity\n",
    "        a_T = A(0, T, theta, k, sigma)\n",
    "        b_T = B(0, T, k)\n",
    "        bond_price_T = P(a_T, b_T, r0)\n",
    "        \n",
    "        # Calculate the sum of the present value of cash flows\n",
    "        sum_p = sum(P(A(0, i * dt, theta, k, sigma), B(0, i * dt, k), r0) for i in range(1, n+1))\n",
    "        \n",
    "        # Calculate the swap rate\n",
    "        swap_rate = 100 * (1 - bond_price_T) / (dt * sum_p)\n",
    "        \n",
    "        # Compare to market swap rate\n",
    "        market_yield = rate / 100\n",
    "        ssre = ((swap_rate - market_yield) / market_yield) ** 2\n",
    "        errors.append(ssre)\n",
    "\n",
    "    # Return the sum of squared relative errors\n",
    "    return sum(errors)"
   ]
  },
  {
   "cell_type": "code",
   "execution_count": 151,
   "metadata": {},
   "outputs": [
    {
     "name": "stdout",
     "output_type": "stream",
     "text": [
      "The parameters [kappa, theta, sigma, r0] are 0.2068376622883129, 0.0005782616825041548, 1.3552927899674663e-07, 1.9569006139952562e-05\n"
     ]
    }
   ],
   "source": [
    "initial_guess = [0.3, 0.1, 0.1, 0.01]\n",
    "result = minimize(objective_function, initial_guess, args=(data1, data2))\n",
    "params = result.x\n",
    "print(\"The parameters [kappa, theta, sigma, r0] are {}, {}, {}, {}\".format(params[0], params[1], params[2], params[3]))"
   ]
  },
  {
   "cell_type": "code",
   "execution_count": 294,
   "metadata": {},
   "outputs": [
    {
     "name": "stdout",
     "output_type": "stream",
     "text": [
      "0.0\n",
      "0.03333333333333333\n",
      "0.06666666666666667\n",
      "0.1\n",
      "0.13333333333333333\n",
      "0.16666666666666666\n",
      "0.2\n",
      "0.23333333333333334\n",
      "0.26666666666666666\n",
      "0.3\n",
      "0.3333333333333333\n",
      "0.36666666666666664\n",
      "0.4\n",
      "0.43333333333333335\n",
      "0.4666666666666667\n",
      "0.5\n",
      "0.5333333333333333\n",
      "0.5666666666666667\n",
      "0.6\n",
      "0.6333333333333333\n",
      "0.6666666666666666\n",
      "0.7\n",
      "0.7333333333333333\n",
      "0.7666666666666666\n",
      "0.8\n",
      "0.8333333333333334\n",
      "0.8666666666666667\n",
      "0.9\n",
      "0.9333333333333333\n",
      "0.9666666666666667\n",
      "1.0\n"
     ]
    }
   ],
   "source": [
    "k, theta, sigma, r0 = [0.1153, 0.0532, 0.0028, 0.0309]\n",
    "\n",
    "def B(t, T, a):\n",
    "    return (1 - np.exp(-a * (T - t))) / a\n",
    "\n",
    "def A(t, T, b, a, sigma):\n",
    "    B_value = B(t, T, a)\n",
    "    return (b - (sigma**2) / (2 * a**2)) * (B_value - (T - t)) - (sigma**2) * B_value**2 / (4 * a)\n",
    "\n",
    "def P(t, T, r_t, b, a, sigma):\n",
    "    A_value = A(t, T, b, a, sigma)\n",
    "    B_value = B(t, T, a)\n",
    "    return np.exp(A_value - B_value * r_t)\n",
    "    \n",
    "# Simulation parameters\n",
    "#k, theta, sigma, r0 = params1\n",
    "T = 1\n",
    "N = 30\n",
    "dt = 1 / N\n",
    "t = np.arange(0, T+dt/2, dt)\n",
    "r = np.zeros_like(t)\n",
    "a = np.zeros_like(t)\n",
    "b = np.zeros_like(t)\n",
    "\n",
    "r[0] = r0\n",
    "for i in range(N):\n",
    "    r[i+1] = r[i] + k * (theta - r[i]) * dt + sigma * np.sqrt(dt) * np.random.randn()\n",
    "\n",
    "for i, time in enumerate(t)):\n",
    "    b[i] = "
   ]
  },
  {
   "cell_type": "code",
   "execution_count": 292,
   "metadata": {},
   "outputs": [
    {
     "data": {
      "text/plain": "[<matplotlib.lines.Line2D at 0x146d97290>]"
     },
     "execution_count": 292,
     "metadata": {},
     "output_type": "execute_result"
    },
    {
     "data": {
      "image/png": "[encoded data removed]",
      "text/plain": "<Figure size 640x480 with 1 Axes>"
     },
     "metadata": {},
     "output_type": "display_data"
    }
   ],
   "source": [
    "plt.plot(r)"
   ]
  },
  {
   "cell_type": "code",
   "execution_count": null,
   "metadata": {},
   "outputs": [],
   "source": []
  }
 ],
 "metadata": {
  "kernelspec": {
   "display_name": "Python 3.11.7 64-bit ('nlp': conda)",
   "name": "python3117jvsc74a57bd061144442c5bba5d28851d4d88bd107affeefd4f9a3e21babceae053099746efa"
  },
  "language_info": {
   "codemirror_mode": {
    "name": "ipython",
    "version": 3
   },
   "file_extension": ".py",
   "mimetype": "text/x-python",
   "name": "python",
   "nbconvert_exporter": "python",
   "pygments_lexer": "ipython3",
   "version": "3.11.7"
  },
  "orig_nbformat": 2
 },
 "nbformat": 4,
 "nbformat_minor": 2
}