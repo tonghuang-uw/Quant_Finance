{
 "cells": [
  {
   "cell_type": "code",
   "execution_count": 3,
   "metadata": {},
   "outputs": [],
   "source": [
    "import numpy as np\n",
    "import matplotlib.pyplot as plt"
   ]
  },
  {
   "cell_type": "markdown",
   "metadata": {},
   "source": [
    "# Monte Carlo Framework\n",
    "\n",
    "We are interested in calculating the expected value of some random variable:\n",
    "\n",
    "$$\\theta = \\mathbb{E}\\left[h(X)\\right]$$\n",
    "\n",
    "where $X$ is a random variable (or, more generally, a random vector in $\\mathbb{R}^m$) and $h:\\mathbb{R}^m\\to\\mathbb{R}$ is some arbitrary measurable function.  In principle, we can always do this by integration.  In particular, we have\n",
    "\n",
    "$$\\theta = \\int_{\\mathbb{R}^m}h(\\mathbf{x})f_{X}(\\mathbf{x})\\,\\textrm{d}\\mathbf{x}$$\n",
    "\n",
    "However, for even moderately complicated functions $h$ and $f_{X}$, this integral is usually impossible to compute.  One can, of course, numerically approximate an integral like this with a wide variety of methods, but when the dimension $m$ is large numerical approximation methods tend to be intractably slow.\n",
    "\n",
    "In order to approximate $\\theta$, we will rely on the following theorem:"
   ]
  },
  {
   "cell_type": "markdown",
   "metadata": {},
   "source": [
    "## Theorem: The Strong Law of Large Numbers\n",
    "\n",
    "Suppose $Y_1$, $Y_2$, $\\dotsc$ are i.i.d. random variables with $\\mathbb{E}[Y_1] = \\mu < \\infty$.  Then\n",
    "\n",
    "$$\\lim_{n\\to\\infty}\\frac{1}{n}\\sum_{i = 1}^{n}Y_i = \\mu$$\n",
    "\n",
    "with probability 1."
   ]
  },
  {
   "cell_type": "markdown",
   "metadata": {},
   "source": [
    "# Monte Carlo Framework\n",
    "\n",
    "We can use this idea to approximate $\\theta = \\mathbb{E}[h(X)]$.  To do so, we define $n$ i.i.d. copies of $X$ named $X_i$ and then create $n$ i.i.d. random variables $Y_i = h(X_i)$.  Our goal is to calculate $\\mathbb{E}[Y_1]$.  Assuming this expected value exists, we can apply the strong law of large numbers to obtain\n",
    "\n",
    "$$\\theta = \\lim_{n\\to\\infty}\\frac{1}{n}\\sum_{i = 1}^{n}h(X_i)$$\n",
    "\n",
    "Of course, we can't actually calculate infinitely many copies of $h(X_i)$ in practice, but we can approximate this limit by choosing a fixed but large value of $n$.  That is, we can approximate $\\theta$ with\n",
    "\n",
    "$$\\hat{\\theta}_n = \\frac{1}{n}\\sum_{i = 1}^{n}h(X_i)$$\n",
    "\n",
    "This gives us the following general algorithm:"
   ]
  },
  {
   "cell_type": "markdown",
   "metadata": {},
   "source": [
    "for $i = 1\\,$ to $n$\n",
    "$\\:\\:\\:$ generate $X_i$\n",
    "$\\:\\:\\:$ $h_i = h(X_i)$\n",
    "\n",
    "$\\hat{\\theta}_n = (h_1 + h_2 + ... + h_n) / n$"
   ]
  },
  {
   "cell_type": "markdown",
   "metadata": {},
   "source": [
    "Notice that $\\hat{\\theta}_n$ is itself a random variable.  This means that every time we run our algorithm we will get a different approximation.  If we use a random variable to approximate a parameter, we call the random variable an *estimator*.  There are two important properties that we would like to have in a good estimator:\n",
    "\n",
    "1) The estimator $\\hat{\\theta}_n$ is a *consistent* estimator of $\\theta$ if $\\hat{\\theta}_n\\to\\theta$ with probability 1 as $n\\to\\infty$.  In our case, this is guaranteed by the strong law of large numbers.\n",
    "\n",
    "2) The estimator $\\hat{\\theta}_n$ is an *unbiased* estimator of $\\theta$ if $\\mathbb{E}[\\hat{\\theta}_n] = \\theta$.\n",
    "\n",
    "A simple calculation shows that $\\hat{\\theta}_n$ really is unbiased:\n",
    "\n",
    "$$\\begin{aligned}\n",
    "\\mathbb{E}\\left[\\hat{\\theta}_n\\right] &= \\mathbb{E}\\left[\\frac{1}{n}\\sum_{i = 1}^{n}h(X_i)\\right] \\\\\n",
    "&= \\frac{1}{n}\\sum_{i = 1}^{n}\\mathbb{E}[h(X_i)] \\\\\n",
    "&= \\frac{1}{n}\\sum_{i = 1}^{n}\\theta \\\\\n",
    "&= \\frac{n\\theta}{n} \\\\\n",
    "&= \\theta\n",
    "\\end{aligned}$$"
   ]
  },
  {
   "cell_type": "markdown",
   "metadata": {},
   "source": [
    "## Inverse Transform Method\n",
    "\n",
    "Suppose that we want to generate a random variable $X:\\Omega\\to\\mathbb{R}$ with a given cdf $F_{X}:\\mathbb{R}\\to\\mathbb{R}$.  For simplicity, suppose that $F_{X}$ is continuous and strictly increasing, so that it is invertible.  (The \"strictly increasing\" part is not necessary, but makes our proof easier.)  Notice that\n",
    "\n",
    "$$F_{X}\\circ X:\\Omega\\to\\mathbb{R}$$\n",
    "\n",
    "is itself a function on $\\Omega$, and so $Y = F_{X}(X)$ is a random variable in its own right.  It therefore makes sense to ask about the distribution of $Y$.  It's clear from the definition of a cdf that $0 \\leq Y \\leq 1$.  For any $0 \\leq y \\leq 1$, we have\n",
    "\n",
    "$$\\begin{aligned}\n",
    "F_{Y}(y) &= \\mathbb{P}\\left[Y \\leq y\\right] \\\\\n",
    "&= \\mathbb{P}\\left[F_{X}(X) \\leq y\\right] \\\\\n",
    "&= \\mathbb{P}\\left[X \\leq F^{-1}_{X}(y)\\right] \\\\\n",
    "&= F_{X}\\left(F^{-1}_{X}(y)\\right) \\\\\n",
    "&= y\n",
    "\\end{aligned}$$\n",
    "\n",
    "This means that\n",
    "\n",
    "$$F_{Y}(y) = \\left\\{ \\begin{array}{cc} 0 & y \\leq 0 \\\\ y & 0 < y < 1 \\\\ 1 & y \\geq 0 \\end{array} \\right.$$\n",
    "\n",
    "and so $Y\\sim U(0, 1)$ is uniformly distributed.\n",
    "\n",
    "Following the same logic in reverse gives us a method for generating $X$: We first generate a uniform random variable $U\\sim U(0, 1)$, and then set $X = F_{X}^{-1}(U)$.  To verify that this works, we need to check the cdf of the resulting $x$.\n",
    "\n",
    "$$\\begin{aligned}\n",
    "\\mathbb{P}\\left[X \\leq x\\right] &= \\mathbb{P}\\left[F_{X}^{-1}(U) \\leq x\\right] \\\\\n",
    "&= \\mathbb{P}\\left[U \\leq F_{X}(x)\\right] \\\\\n",
    "&= F_{U}\\left(F_{X}(x)\\right) \\\\\n",
    "&= F_{X}(x)\n",
    "\\end{aligned}$$"
   ]
  },
  {
   "cell_type": "markdown",
   "metadata": {},
   "source": [
    "### Example\n",
    "\n",
    "Generate the exponential random variable $X\\sim \\textrm{Exp}(\\lambda)$ with the inverse transform method.  That is, generate a random variable $X$ with cdf\n",
    "\n",
    "$$F_{X}(x) = 1 - e^{-\\lambda x}$$\n",
    "\n",
    "for some fixed $\\lambda > 0$.\n",
    "\n",
    "### Solution\n",
    "\n",
    "We first need to compute $F_{X}^{-1}$.  If\n",
    "\n",
    "$$u = 1 - e^{-\\lambda x}$$\n",
    "\n",
    "then\n",
    "\n",
    "$$x = -\\frac{1}{\\lambda}\\ln\\left(1 - u\\right)$$\n",
    "\n",
    "and so\n",
    "\n",
    "$$F_{X}^{-1}(u) = -\\frac{1}{\\lambda}\\ln\\left(1 - u\\right)$$\n",
    "\n",
    "We can therefore generate $X$ in two steps:\n",
    "\n",
    "1) Generate $U\\sim U(0, 1)$\n",
    "\n",
    "2) Calculate $X$ using $X = -\\ln\\left(1 - U\\right) / \\lambda$.\n",
    "\n",
    "We can also take advantage of a common trick.  We already know that $1 - U$ and $U$ are identically distributed, so we can instead use\n",
    "\n",
    "$$X = -\\frac{1}{\\lambda}\\ln\\left(U\\right)$$\n",
    "\n",
    "which is slightly more computationally efficient.\n",
    "\n",
    "As an example, we use python to generate 100,000 such samples and plot their histogram alongside the true pdf."
   ]
  },
  {
   "cell_type": "code",
   "execution_count": 4,
   "metadata": {},
   "outputs": [
    {
     "data": {
      "image/png": "[encoded data removed]",
      "text/plain": "<Figure size 640x480 with 1 Axes>"
     },
     "metadata": {},
     "output_type": "display_data"
    }
   ],
   "source": [
    "lam = 2\n",
    "n = 100000\n",
    "u = np.random.uniform(0, 1, size=n)\n",
    "x = -np.log(u) / lam\n",
    "\n",
    "x_plot = np.arange(0, np.max(x) + 1, 0.01)\n",
    "plt.hist(x, bins=x_plot, density=True)\n",
    "plt.plot(x_plot, lam * np.exp(-lam * x_plot), color='r')\n",
    "plt.show()"
   ]
  },
  {
   "cell_type": "code",
   "execution_count": null,
   "metadata": {},
   "outputs": [],
   "source": []
  }
 ],
 "metadata": {
  "kernelspec": {
   "display_name": "Python 3.11.7 64-bit",
   "name": "python3117jvsc74a57bd061144442c5bba5d28851d4d88bd107affeefd4f9a3e21babceae053099746efa"
  },
  "language_info": {
   "codemirror_mode": {
    "name": "ipython",
    "version": 3
   },
   "file_extension": ".py",
   "mimetype": "text/x-python",
   "name": "python",
   "nbconvert_exporter": "python",
   "pygments_lexer": "ipython3",
   "version": "3.11.7"
  },
  "orig_nbformat": 2
 },
 "nbformat": 4,
 "nbformat_minor": 2
}