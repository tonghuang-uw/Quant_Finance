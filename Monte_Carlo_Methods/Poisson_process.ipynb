{
 "cells": [
  {
   "cell_type": "code",
   "execution_count": 2,
   "metadata": {},
   "outputs": [],
   "source": [
    "import numpy as np\n",
    "import matplotlib.pyplot as plt"
   ]
  },
  {
   "cell_type": "markdown",
   "metadata": {},
   "source": [
    "# Poisson Processes\n",
    "\n",
    "The processes we have just discussed are continuous time, continuous state.  (Moreover, they have continuous sample paths with probability 1, but that is substantially more difficult to prove.)  There are also many important continuous time, discrete state processes.  One of the most important is the Poisson process.  We say that $\\{N_t\\}$ is a Poisson process with parameter $\\lambda > 0$ if it has the following properties:\n",
    "\n",
    "1) It is a Markov process.\n",
    "\n",
    "2) Each $N_t$ takes values in $\\mathbb{N} = \\{0, 1, 2, \\dotsc\\}$.  (Such processes are known as *counting processes*.)\n",
    "\n",
    "3) if $t > s \\geq 0$ then $N_t - N_s\\sim \\textrm{Poisson}(\\lambda(t - s))$\n",
    "\n",
    "Typically, we choose $N_0 = 0$ with probability 1.  In this case, for any $t > 0$ we have\n",
    "\n",
    "$$P(N_t = n) = e^{-\\lambda t}\\frac{(\\lambda t)^n}{n!}$$\n",
    "\n",
    "This is a *jump process* because $N_t$ will jump from one value to another.  That is, if we plot a sample path of $N_t$ as a function of time, then it will typically have jump discontinuities.  It is often useful to know the distribution of the times at which these jump discontinuities appear (i.e., the *jump times*).\n",
    "\n",
    "To start, suppose $N_0 = 0$ and define the first jump time as\n",
    "\n",
    "$$\\tau_1 = \\inf\\left\\{ t > 0 \\:\\vert\\: N_t > 0\\right\\}$$\n",
    "\n",
    "We have\n",
    "\n",
    "$$\\begin{aligned}\n",
    "\\mathbb{P}\\left[\\tau \\leq t\\right] &= 1 - \\mathbb{P}\\left[\\tau > t\\right] \\\\\n",
    "&= 1 - \\mathbb{P}\\left[N_t = 0\\right] \\\\\n",
    "&= 1 - e^{-\\lambda t}\n",
    "\\end{aligned}$$\n",
    "\n",
    "This is the cdf of an exponential random variable, and so we have\n",
    "\n",
    "$$\\tau_1 \\sim \\textrm{Exp}(\\lambda)$$\n",
    "\n",
    "If we define the later jump times by\n",
    "\n",
    "$$\\tau_{k + 1} = \\inf\\left\\{ t > 0 \\:\\vert\\: N_t > k\\right\\}$$\n",
    "\n",
    "then we can use the same logic to show that\n",
    "\n",
    "$$\\tau_{k + 1} - \\tau_k\\sim \\textrm{Exp}(\\lambda)$$\n",
    "\n",
    "Because the Poisson process is Markovian, we the inter-jump times $\\tau_{k + 1} - \\tau_k$ must also be independent.  This means that, given $N_t = n$, the time $\\tau$ until the next jump is always exponentially distributed with paramter $\\lambda$ and independent of $N_s$ for all $s < t$."
   ]
  },
  {
   "cell_type": "markdown",
   "metadata": {},
   "source": [
    "## Simulating a Poisson process\n",
    "\n",
    "We can simulate a Poisson process by just simulating the jump times.  In particular, we have the following algorithm:\n",
    "\n",
    "1) Set $k = 0$, $t_0 = 0$ and generate $N_0$.  (Typically $N_0$ is just zero, but it's perfectly fine to generate from some known distribution.)\n",
    "\n",
    "2) Generate the time until the next jump $\\tau\\sim \\textrm{Exp}(\\lambda)$\n",
    "\n",
    "3) Set $t_{k + 1} = t_{k} + \\tau$, set $N_{k + 1} = N_{k} + 1$ and set $k = k + 1$.  Go back to step 2.\n",
    "\n",
    "Notice that this is the same method as we used to simulate a discrete time process, but we are choosing the times $t_k$ as we go.\n",
    "\n",
    "There are two standard ways to choose when to stop.  You can either pick a fixed number of steps (so that you stop when $N_t = n$ for some fixed $n > 0$) or you can pick a fixed final time (so that you stop when $t_k \\geq T$."
   ]
  },
  {
   "cell_type": "markdown",
   "metadata": {},
   "source": [
    "### Simulate a Poisson process with $N_0 = 0$ and rate $\\lambda = 2$."
   ]
  },
  {
   "cell_type": "code",
   "execution_count": 4,
   "metadata": {},
   "outputs": [
    {
     "data": {
      "image/png": "[encoded data removed]",
      "text/plain": "<Figure size 640x480 with 1 Axes>"
     },
     "metadata": {},
     "output_type": "display_data"
    }
   ],
   "source": [
    "lam = 2\n",
    "T = 10\n",
    "\n",
    "k = 0\n",
    "current_time = 0\n",
    "t = np.array([current_time])\n",
    "N = 0\n",
    "\n",
    "while current_time < T:\n",
    "    u = np.random.uniform(0, 1)\n",
    "    current_time = current_time - np.log(u) / lam\n",
    "    N += 1\n",
    "    t = np.append(t, current_time)\n",
    "\n",
    "n = np.arange(N + 1)\n",
    "plt.step(t, n)\n",
    "plt.show()"
   ]
  },
  {
   "cell_type": "markdown",
   "metadata": {},
   "source": [
    "## Inhomogeneous Poisson processes\n",
    "\n",
    "The Poisson process we described above is time homogeneous, because the distribution of jump times does not depend on the current time $t$.  In practice, this is often not a reasonable assumption.  The simplest generalization is to assume that the rate $\\lambda$ is not constant, but instead a deterministic, non-negative function of time $\\lambda(t)$.\n",
    "\n",
    "We define such a process by assuming that\n",
    "\n",
    "$$\\mathbb{P}\\left[N(t + \\Delta t) - N(t) = n + 1 \\:\\vert\\: N(t) = n\\right] = \\lambda(t)\\Delta t + o(\\Delta t)$$\n",
    "\n",
    "and\n",
    "\n",
    "$$\\mathbb{P}\\left[N(t + \\Delta t) - N(t) > n + 1 \\:\\vert\\: N(t) = n\\right] = o(\\Delta t)$$\n",
    "\n",
    "In other words, over a sufficiently small time-span $\\Delta t$, the process has one jump with probability $\\approx \\lambda(t)\\Delta t$, zero jumps with probability $\\approx 1 - \\lambda(t)\\Delta t$ and more than one jump with probability $\\approx$.\n",
    "\n",
    "One can show that, for fixed $t$ and $s$ with $0 \\leq s < t$, the increment $N_{t} - N_{s}$ has a Poisson distribution with rate\n",
    "\n",
    "$$\\Lambda = \\int_{s}^{t}\\lambda(u)\\,\\textrm{d}u$$\n",
    "\n",
    "Assuming we can integrate $\\Lambda$, we can use this property to simulate $N_t$ at fixed times (essentially the same as the $\\tau$-leaping described above).\n",
    "\n",
    "If we want to simulate at the jump times, then - in principle - we can use $\\Lambda$ to determine the distribution of jump times and then simulate these jumps with the inverse transform method.  In practice, actually evaluating the cdf for these jump times, let alone its inverse, is usually not practical.  A common alternative is known as *thinning*."
   ]
  },
  {
   "cell_type": "markdown",
   "metadata": {},
   "source": [
    "## Thinning\n",
    "\n",
    "The thinning approac relies on the following key fact about Poisson processes.  If $N_t$ and $M_t$ are independent poisson processes with rates $\\lambda_1(t)$ and $\\lambda_2(t)$, then $N_t + M_t$ is also a Poisson process with rate $\\lambda_1(t) + \\lambda_2(t)$.  Moreover, given that a jump occurs at time $\\tau$, the process $N_t$ has a jump at time $\\tau$ with probability $\\lambda_1(t)/(\\lambda_1(t) + \\lambda_2(t))$ and the process $M_t$ has a jump with probability $\\lambda_2(t)/(\\lambda_1(t) + \\lambda_2(t))$.  That is, the probability that a jump \"belongs to\" $N_t$ is proportional to its rate.\n",
    "\n",
    "We will construct an extra process $M_t$ in such a way that $N_t + M_t$ is easy to simulate, then discard all of the jumps that correspond to $M_t$.  This is an analog of acceptance-rejection for processes.\n",
    "\n",
    "Consider an inhomogeneous Poisson process $N_t$ with rate $\\lambda(t)$ and suppose that there is some constant $\\overline{\\lambda}$ such that $\\lambda(t) \\leq \\overline{\\lambda}$ for all $t$.  We will define $M_t$ as a Poisson process with rate $\\overline{\\lambda} - \\lambda(t)$.  This means that $N_t + M_t$ is a Poisson process with *constant* rate $\\overline{\\lambda}$, which is easy to simulate.  We will simulate the jump times of this new compound process.  Then, for each jump time, we will accept the jump with probability $\\lambda(t)/\\overline{\\lambda}$ and reject it with probability $1 - \\lambda(t)/\\overline{\\lambda}$.  We get the following algorithm:\n",
    "\n",
    "1) Set $k = 0$, $t_0 = 0$ and generate $N_0$.  (Typically $N_0$ is just zero, but it's perfectly fine to generate from some known distribution.)\n",
    "\n",
    "2) Generate the time until the next jump $\\tau\\sim \\textrm{Exp}(\\overline{\\lambda})$\n",
    "\n",
    "3) Set $t_{k + 1} = t_{k} + \\tau$.\n",
    "\n",
    "4) Generate $U\\sim U(0, 1)$. If $U \\leq \\lambda(t) / \\overline{\\lambda}$, then accept the jump and set $N_{k + 1} = N_{k} + 1$.  Otherwise, reject the jump and set $N_{k + 1} = N_{k}$.  Set $k = k + 1$ and go back to step 2."
   ]
  },
  {
   "cell_type": "markdown",
   "metadata": {},
   "source": [
    "### Simulate a Poisson process with $N_0 = 0$ and rate $\\lambda(t) = 0.1 + 1.9e^{-0.1t}$."
   ]
  },
  {
   "cell_type": "code",
   "execution_count": 6,
   "metadata": {},
   "outputs": [
    {
     "data": {
      "image/png": "[encoded data removed]",
      "text/plain": "<Figure size 640x480 with 1 Axes>"
     },
     "metadata": {},
     "output_type": "display_data"
    }
   ],
   "source": [
    "lam_max = 2\n",
    "T = 100\n",
    "current_time = 0\n",
    "t = np.array([current_time])\n",
    "N = 0\n",
    "\n",
    "def lam(t):\n",
    "    return 0.1 + 1.9 * np.exp(-0.1*t)\n",
    "\n",
    "while current_time < T:\n",
    "    u = np.random.uniform(0, 1, size=2)\n",
    "    current_time = current_time - np.log(u[0]) / lam_max\n",
    "    if u[1] <= lam(current_time) / lam_max:\n",
    "        N += 1\n",
    "        t = np.append(t, current_time)\n",
    "\n",
    "n = np.arange(N + 1)\n",
    "plt.step(t, n)\n",
    "plt.show()"
   ]
  },
  {
   "cell_type": "markdown",
   "metadata": {},
   "source": [
    "## Decay Process\n",
    "\n",
    "The time-inhomogeneous processes that we considered above depended on $t$ through a deterministic rate function $\\lambda(t)$.  However, it is common to consider situations where the rate $\\lambda$ depends on the state $N_t$.  As an example, suppose we have a collection of $n_0$ atoms of some radioactive isotope.  Each will decay at some exponentially distributed time $\\tau_i\\sim \\textrm{Exp}(\\lambda)$.  We will assume that all the $\\tau_i$ are mutually independent.  Let $N_t$ be the number of atoms that have not yet decayed.\n",
    "\n",
    "We can simulate $N_t$ in a very similar manner to our previous approach: At every step, we generate the waiting time $\\tau$ until the next decay, then set $t_{k+1} = t_{k} + \\tau$ and set $N_t = N_t - 1$.  Generating the waiting time might seem challenging, but it is made much easier by the following fact: If $\\tau_i\\sim\\textrm{Exp}(\\lambda_i)$ are independent, then\n",
    "\n",
    "$$\\textrm{min}\\left[\\tau_1, \\dotsc, \\tau_n\\right] \\sim \\textrm{Exp}\\left(\\sum_{i = 1}^{n}\\lambda_i\\right)$$\n",
    "\n",
    "This means that if $N_t = n$, then the time until the decay is given by $\\tau\\sim\\textrm{Exp}(n\\lambda)$.  We therefore have the following algorithm:\n",
    "\n",
    "1) Set $N_0 = n_0$, $t_0 = 0$ and $k = 0$.\n",
    "\n",
    "2) Generate a waiting time $\\tau\\sim \\textrm{Exp}(N_k\\lambda)$ and set $t_{k + 1} = t_{k} + \\tau$\n",
    "\n",
    "3) Set $N_{k + 1} = N_k - 1$.\n",
    "\n",
    "4) Set $k = k + 1$ and go back to step 2."
   ]
  },
  {
   "cell_type": "code",
   "execution_count": 7,
   "metadata": {},
   "outputs": [
    {
     "data": {
      "image/png": "[encoded data removed]",
      "text/plain": "<Figure size 640x480 with 1 Axes>"
     },
     "metadata": {},
     "output_type": "display_data"
    }
   ],
   "source": [
    "lam = 2\n",
    "T = 10\n",
    "current_time = 0\n",
    "t = np.array([current_time])\n",
    "N = 100\n",
    "n = np.array([N])\n",
    "\n",
    "while N > 0 and current_time < T:\n",
    "    u = np.random.uniform(0, 1)\n",
    "    current_time = current_time - np.log(u) / (N * lam)\n",
    "    N -= 1\n",
    "    n = np.append(n, N)\n",
    "    t = np.append(t, current_time)\n",
    "\n",
    "plt.step(t, n)\n",
    "plt.show()"
   ]
  },
  {
   "cell_type": "code",
   "execution_count": null,
   "metadata": {},
   "outputs": [],
   "source": []
  }
 ],
 "metadata": {
  "kernelspec": {
   "display_name": "Python 3.11.7 64-bit",
   "name": "python3117jvsc74a57bd061144442c5bba5d28851d4d88bd107affeefd4f9a3e21babceae053099746efa"
  },
  "language_info": {
   "codemirror_mode": {
    "name": "ipython",
    "version": 3
   },
   "file_extension": ".py",
   "mimetype": "text/x-python",
   "name": "python",
   "nbconvert_exporter": "python",
   "pygments_lexer": "ipython3",
   "version": "3.11.7"
  },
  "orig_nbformat": 2
 },
 "nbformat": 4,
 "nbformat_minor": 2
}