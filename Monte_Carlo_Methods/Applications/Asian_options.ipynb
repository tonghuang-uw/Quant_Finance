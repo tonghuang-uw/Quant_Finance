{
 "cells": [
  {
   "cell_type": "code",
   "execution_count": 1,
   "metadata": {},
   "outputs": [],
   "source": [
    "import numpy as np\n",
    "import matplotlib.pyplot as plt"
   ]
  },
  {
   "cell_type": "markdown",
   "metadata": {},
   "source": [
    "### Exercise: Asian Options\n",
    "\n",
    "An Asian option is similar to a European option, except that the payoff depends on the average of the underlying asset value at several predetermined times rather than just the asset value at maturity.  That is, the payoff is $(A_{T} - K)^{+}$, where $K$ is the strike price and\n",
    "\n",
    "$$A_{T} = \\frac{1}{m}\\sum_{i = 1}^{m}S_{t_i}$$\n",
    "\n",
    "(It is also possible to use a geometric mean instead.)  Such options are common in commodities markets.  We can determine the value of an Asian option by\n",
    "\n",
    "1) Simulating the underlying asset value at $t_1$, $\\dotsc$, $t_m$ $N$ times.\n",
    "\n",
    "2) For each simulation, calculate the discounted payoff $e^{-rT}(A_T - K)^{+}$ (where $T$ is the time of maturity and $r$ is the risk free interest rate).\n",
    "\n",
    "2) Average these discounted payoffs together under the risk-neutral measure.\n",
    "\n",
    "It is somewhat messy to find the risk-neutral measure, but we can use a standard theorem of finance to solve this problem: We simulate the value of the assets using a drift of $r$ (the risk free interest rate) rather than the true rate of the asset and then find the usual arithmetic mean of our assets.  In other words, we can estimate the value of an Asian option by\n",
    "\n",
    "$$V = \\frac{1}{N}\\sum_{i = 1}^{N}e^{-rT}\\left(A_T - K\\right)^{+}$$\n",
    "\n",
    "where\n",
    "\n",
    "$$A_{T} = \\frac{1}{m}\\sum_{j = 1}^{m}S_{t_j}$$\n",
    "\n",
    "and\n",
    "\n",
    "$$S\\sim GBM(r, \\sigma)$$\n",
    "\n",
    "Use this method to estimate the value of an Asian option with $K = 1$, $T = 1$, $t_j = 0.1j$ for $0 \\leq j \\leq 10$, $r = 0.02$ and $\\sigma = 0.25$."
   ]
  },
  {
   "cell_type": "code",
   "execution_count": 25,
   "metadata": {},
   "outputs": [
    {
     "name": "stdout",
     "output_type": "stream",
     "text": [
      "The value of the Asian option is estimated at 0.05756276385942592\n",
      "The variance of the Asian option is estimated at 0.0076066661055081836\n"
     ]
    }
   ],
   "source": [
    "r = 0.02\n",
    "sigma = 0.25\n",
    "N = 10000\n",
    "T = 1\n",
    "K = 1\n",
    "j = 10\n",
    "\n",
    "dt = T / j\n",
    "\n",
    "s = np.linspace(0, T, j)\n",
    "x = np.zeros((N, len(s)))\n",
    "x[:, 0] = 1\n",
    "\n",
    "\n",
    "for k in range(1, len(s)):\n",
    "    z = np.random.randn(N)\n",
    "    x[:, k] = x[:, k-1] + r * x[:, k-1] * dt + sigma * np.sqrt(dt) * x[:, k-1] * z\n",
    "\n",
    "v = np.mean(np.exp(-r*T) * np.maximum((np.mean(x, axis = 1) - K), 0))\n",
    "v_var = np.var(np.exp(-r*T) * np.maximum((np.mean(x, axis = 1) - K), 0))\n",
    "print(\"The value of the Asian option is estimated at {}\".format(v))\n",
    "print(\"The variance of the Asian option is estimated at {}\".format(v_var))"
   ]
  },
  {
   "cell_type": "code",
   "execution_count": null,
   "metadata": {},
   "outputs": [],
   "source": []
  }
 ],
 "metadata": {
  "kernelspec": {
   "display_name": "Python 3.11.7 64-bit",
   "name": "python3117jvsc74a57bd061144442c5bba5d28851d4d88bd107affeefd4f9a3e21babceae053099746efa"
  },
  "language_info": {
   "codemirror_mode": {
    "name": "ipython",
    "version": 3
   },
   "file_extension": ".py",
   "mimetype": "text/x-python",
   "name": "python",
   "nbconvert_exporter": "python",
   "pygments_lexer": "ipython3",
   "version": "3.11.7"
  },
  "orig_nbformat": 2
 },
 "nbformat": 4,
 "nbformat_minor": 2
}