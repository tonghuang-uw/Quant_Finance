{
 "cells": [
  {
   "cell_type": "code",
   "execution_count": 1,
   "metadata": {},
   "outputs": [],
   "source": [
    "import numpy as np\n",
    "import matplotlib.pyplot as plt"
   ]
  },
  {
   "cell_type": "markdown",
   "metadata": {},
   "source": [
    "### Example: Insurance Payouts\n",
    "\n",
    "As a more concrete example, suppose that an insurance company pays out $N\\sim \\textrm{Poisson}(10)$ claims per week and the payout for each claim is $X_i \\sim \\textrm{Exp}(\\lambda_i)$, where each $\\lambda_i$ is a positive constant.  (Suppose that each $N$ and all of the $X_i$ are mutually independent.)  The total amount that the insurance company needs to pay out each week is given by\n",
    "\n",
    "$$X = \\sum_{i = 1}^{N}X_i$$\n",
    "\n",
    "(Where an empty sum is defined as zero.)  We can generate $X$ with the following steps:\n",
    "\n",
    "1) Generate $N$ from a Poisson distribution using the inverse transform method.\n",
    "\n",
    "2) If $N = n$, generate $L_1(\\lambda_1)$, $\\dotsc$, $L_n(\\lambda_n)$ using the inverse transform method.\n",
    "\n",
    "It can be used as a prediction for next week, and we generate N examples."
   ]
  },
  {
   "cell_type": "code",
   "execution_count": 17,
   "metadata": {},
   "outputs": [
    {
     "name": "stdout",
     "output_type": "stream",
     "text": [
      "The mean of the weekly insurance payout is 0.6997981819703328\n",
      "The standard deviation of the weekly insurance payout is 0.2647526756942505\n"
     ]
    }
   ],
   "source": [
    "lam = 10\n",
    "\n",
    "def generate_poisson(lam):\n",
    "    n = 0\n",
    "    p = np.exp(-lam)\n",
    "    f = p\n",
    "    u = np.random.uniform(0,1)\n",
    "    while u > f:\n",
    "        p = (lam * p)/(n+1)\n",
    "        f += p\n",
    "        n += 1\n",
    "    x = n\n",
    "    return n\n",
    "\n",
    "lam1 = 5\n",
    "n_claims = generate_poisson(lam)\n",
    "\n",
    "N = 100000\n",
    "x_total = np.zeros(N)\n",
    "\n",
    "for k in range(N):\n",
    "    x_each = 0\n",
    "    for i in range(n_claims):\n",
    "        u = np.random.uniform(0, 1)\n",
    "        x = - np.log(u)/lam\n",
    "        x_each += x\n",
    "    x_total[k] = x_each\n",
    "\n",
    "x_mu = np.mean(x_total)\n",
    "x_sigma = np.std(x_total)\n",
    "print(\"The mean of the weekly insurance payout is {}\".format(x_mu))\n",
    "print(\"The standard deviation of the weekly insurance payout is {}\".format(x_sigma))"
   ]
  },
  {
   "cell_type": "code",
   "execution_count": 19,
   "metadata": {},
   "outputs": [
    {
     "data": {
      "image/png": "[encoded data removed]",
      "text/plain": "<Figure size 640x480 with 1 Axes>"
     },
     "metadata": {},
     "output_type": "display_data"
    }
   ],
   "source": [
    "plt.hist(x_total)\n",
    "plt.show()"
   ]
  },
  {
   "cell_type": "code",
   "execution_count": null,
   "metadata": {},
   "outputs": [],
   "source": []
  }
 ],
 "metadata": {
  "kernelspec": {
   "display_name": "Python 3.11.7 64-bit",
   "name": "python3117jvsc74a57bd061144442c5bba5d28851d4d88bd107affeefd4f9a3e21babceae053099746efa"
  },
  "language_info": {
   "codemirror_mode": {
    "name": "ipython",
    "version": 3
   },
   "file_extension": ".py",
   "mimetype": "text/x-python",
   "name": "python",
   "nbconvert_exporter": "python",
   "pygments_lexer": "ipython3",
   "version": "3.11.7"
  },
  "orig_nbformat": 2
 },
 "nbformat": 4,
 "nbformat_minor": 2
}