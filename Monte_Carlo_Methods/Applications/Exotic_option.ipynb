{
 "cells": [
  {
   "cell_type": "code",
   "execution_count": 1,
   "metadata": {},
   "outputs": [],
   "source": [
    "import numpy as np\n",
    "import matplotlib.pyplot as plt"
   ]
  },
  {
   "cell_type": "markdown",
   "metadata": {},
   "source": [
    "# Exotic option\n",
    "\n",
    "Consider an exotic option whose payoff at maturity $T$ is given by \n",
    "\n",
    "$$h(S_t) = \\left\\{ \\begin{array}{cc} \\max\\{S_T - K_1,\\, 0\\} & S_{T/2} \\leq L \\\\ \\max\\{S_T - K_2,\\, 0\\} & S_{T/2} > L \\end{array} \\right.$$\n",
    "\n",
    "In other words, the strike price depends on the value of the asset halfway to maturity.  We can also write this as \n",
    "\n",
    "$$h(S_t) = \\max\\{S_T - K_1,\\, 0\\}1_{(-\\infty, L]}(S_{T/2}) + \\max\\{S_T - K_2,\\, 0\\}1_{(L, \\infty)}(S_{T/2})$$\n",
    "\n",
    "We want to estimate the value of our option at time 0: \n",
    "\n",
    "$$C = \\mathbb{E}\\left[e^{-rT}h(S_t)\\right]$$\n",
    "\n",
    "Using the direct approach, we could just simulate $S_t$ many times and then use it to calculate $e^{-rT}h(S_t)$ and average our results.  "
   ]
  },
  {
   "cell_type": "code",
   "execution_count": 2,
   "metadata": {},
   "outputs": [
    {
     "name": "stdout",
     "output_type": "stream",
     "text": [
      "Direct method: \n",
      "Expected value = 6.71251\n",
      "Confidence interval = [6.42625, 6.99878]\n",
      "Error bar size = 0.28627\n"
     ]
    },
    {
     "data": {
      "image/png": "[encoded data removed]",
      "text/plain": "<Figure size 640x480 with 1 Axes>"
     },
     "metadata": {},
     "output_type": "display_data"
    }
   ],
   "source": [
    "r = 0.05 \n",
    "sigma = 0.4 \n",
    "S0 = 100\n",
    "K1 = 100 \n",
    "K2 = 120 \n",
    "L = 100 \n",
    "T = 0.5\n",
    "\n",
    "n = 10000\n",
    "x = np.zeros(n)\n",
    "s = np.zeros(3)\n",
    "s[0] = S0\n",
    "\n",
    "for k in range(n):\n",
    "    z = np.random.randn(2)\n",
    "    for i in range(len(s) - 1):\n",
    "        s[i + 1] = s[i] * np.exp((r - sigma ** 2 / 2) * (T / 2) + sigma * np.sqrt(T / 2) * z[i])\n",
    "    if s[1] <= L:\n",
    "        x[k] = np.exp(-r * T) * np.max([s[2] - K1, 0])\n",
    "    else:\n",
    "        x[k] = np.exp(-r * T) * np.max([s[2] - K2, 0])\n",
    "        \n",
    "call_value = np.mean(x)\n",
    "err = 1.96 * np.std(x) / np.sqrt(n)\n",
    "lb, ub = call_value - err, call_value + err\n",
    "\n",
    "print(\"Direct method: \")\n",
    "print(\"Expected value = {:.5f}\".format(call_value))\n",
    "print(\"Confidence interval = [{:.5f}, {:.5f}]\".format(lb, ub))\n",
    "print(\"Error bar size = {:.5f}\".format(err))\n",
    "\n",
    "plt.hist(x, 100, density=True)\n",
    "plt.show()"
   ]
  },
  {
   "cell_type": "markdown",
   "metadata": {},
   "source": [
    "However, a natural choice for a condition presents itself.  The payoff function depends on $S_{T/2}$, and so it seems like a potentially good idea to condition on this variable.  We have \n",
    "\n",
    "$$\\begin{aligned}\n",
    "C &= \\mathbb{E}\\left[\\mathbb{E}\\left[e^{-rT}h(S_t)\\:\\vert\\: S_{T/2}\\right]\\right] \\\\\n",
    "&= \\mathbb{E}\\left[\\mathbb{E}\\left[e^{-rT}\\left(\\max\\{S_T - K_1,\\, 0\\}1_{(-\\infty, L]}(S_{T/2}) + \\max\\{S_T - K_2,\\, 0\\}1_{(L, \\infty)}(S_{T/2})\\right)\\:\\vert\\: S_{T/2}\\right]\\right] \\\\\n",
    "&= \\mathbb{E}\\left[1_{(-\\infty, L]}(S_{T/2})\\mathbb{E}\\left[e^{-rT}\\max\\{S_T - K_1,\\, 0\\}\\:\\vert\\: S_{T/2}\\right]\\right] \\\\\n",
    "&\\hspace{0.3in} + \\mathbb{E}\\left[1_{(L, \\infty)}(S_{T/2})\\mathbb{E}\\left[e^{-rT}\\max\\{S_T - K_2,\\, 0\\}\\:\\vert\\: S_{T/2}\\right]\\right]\n",
    "\\end{aligned}$$\n",
    "\n",
    "$$\\begin{aligned}\n",
    "C &= \\mathbb{E}\\left[1_{(-\\infty, L]}(S_{T/2})\\mathbb{E}\\left[e^{-rT}\\max\\{S_T - K_1,\\, 0\\}\\:\\vert\\: S_{T/2}\\right]\\right] \\\\\n",
    "&\\hspace{0.3in} + \\mathbb{E}\\left[1_{(L, \\infty)}(S_{T/2})\\mathbb{E}\\left[e^{-rT}\\max\\{S_T - K_2,\\, 0\\}\\:\\vert\\: S_{T/2}\\right]\\right] \\\\\n",
    "&= \\mathbb{E}\\left[e^{-rT/2}1_{(-\\infty, L]}(S_{T/2})\\mathbb{E}\\left[e^{-r(T - T/2)}\\max\\{S_T - K_1,\\, 0\\}\\:\\vert\\: S_{T/2}\\right]\\right] \\\\\n",
    "&\\hspace{0.3in} + \\mathbb{E}\\left[e^{-rT/2}1_{(L, \\infty)}(S_{T/2})\\mathbb{E}\\left[e^{-r(T - T/2)}\\max\\{S_T - K_2,\\, 0\\}\\:\\vert\\: S_{T/2}\\right]\\right] \\\\\n",
    "&= \\mathbb{E}\\left[e^{-rT/2}1_{(-\\infty, L]}(S_{T/2})C_{BS}(T/2, S_{T/2}, r, \\sigma, T, K_1)\\right] \\\\\n",
    "&\\hspace{0.3in} + \\mathbb{E}\\left[e^{-rT/2}1_{(L, \\infty)}(S_{T/2})C_{BS}(T/2, S_{T/2}, r, \\sigma, T, K_2)\\right]\n",
    "\\end{aligned}$$\n",
    "\n",
    "where $C_{BS}$ is the Black-Scholes formula for a vanilla European call option given by \n",
    "\n",
    "$$C_{BS}(t, S, r, \\sigma, t, K) = S\\Phi(d_1) - Ke^{-r(T - t)}\\Phi(d_2)$$\n",
    "\n",
    "and \n",
    "\n",
    "$$\\begin{aligned}\n",
    "d_1 &= \\frac{\\ln(S/K) + (r + \\sigma^2 / 2)(T - t)}{\\sigma\\sqrt{T - t}} \\\\\n",
    "d_2 &= d_1 - \\sigma\\sqrt{T - t}\n",
    "\\end{aligned}$$\n",
    "\n",
    "and $\\Phi$ is the cdf of the standard normal distribution.  \n",
    "\n",
    "This means that we only need to simulate $S_{T/2}$ and then apply the Black-Scholes formula with the appropriate strike price. "
   ]
  },
  {
   "cell_type": "code",
   "execution_count": 4,
   "metadata": {},
   "outputs": [
    {
     "name": "stdout",
     "output_type": "stream",
     "text": [
      "Conditional method: \n",
      "Expected value = 6.70981\n",
      "Confidence interval = [6.55620, 6.86342]\n",
      "Error bar size = 0.15361\n"
     ]
    },
    {
     "data": {
      "image/png": "[encoded data removed]",
      "text/plain": "<Figure size 640x480 with 1 Axes>"
     },
     "metadata": {},
     "output_type": "display_data"
    },
    {
     "name": "stdout",
     "output_type": "stream",
     "text": [
      "Error reduction = 46.34138%\n"
     ]
    }
   ],
   "source": [
    "from scipy.stats import norm\n",
    "def cbs(t, S, r, sigma, T, K):\n",
    "    d1 = (np.log(S / K) + (r + sigma ** 2 / 2) * (T - t)) / (sigma * np.sqrt(T - t))\n",
    "    d2 = d1 - sigma * np.sqrt(T - t)\n",
    "    return S * norm.cdf(d1) - K * np.exp(-r * (T - t)) * norm.cdf(d2)\n",
    "\n",
    "r = 0.05 \n",
    "sigma = 0.4 \n",
    "S0 = 100\n",
    "K1 = 100 \n",
    "K2 = 120 \n",
    "L = 100 \n",
    "T = 0.5\n",
    "\n",
    "n = 10000\n",
    "x = np.zeros(n)\n",
    "\n",
    "for k in range(n):\n",
    "    z = np.random.randn()\n",
    "    St2 = S0 * np.exp((r - sigma ** 2 / 2) * (T / 2) + sigma * np.sqrt(T / 2) * z)\n",
    "    if St2 <= L:\n",
    "        x[k] = np.exp(-r * T / 2) * cbs(T / 2, St2, r, sigma, T, K1)\n",
    "    else:\n",
    "        x[k] = np.exp(-r * T / 2) * cbs(T / 2, St2, r, sigma, T, K2)\n",
    "        \n",
    "call_value = np.mean(x)\n",
    "err_cond = 1.96 * np.std(x) / np.sqrt(n)\n",
    "lb, ub = call_value - err_cond, call_value + err_cond\n",
    "\n",
    "print(\"Conditional method: \")\n",
    "print(\"Expected value = {:.5f}\".format(call_value))\n",
    "print(\"Confidence interval = [{:.5f}, {:.5f}]\".format(lb, ub))\n",
    "print(\"Error bar size = {:.5f}\".format(err_cond))\n",
    "\n",
    "plt.hist(x, 100, density=True)\n",
    "plt.show()\n",
    "\n",
    "print(\"Error reduction = {:.5f}%\".format(100 * (1 - err_cond / err)))"
   ]
  },
  {
   "cell_type": "code",
   "execution_count": null,
   "metadata": {},
   "outputs": [],
   "source": []
  }
 ],
 "metadata": {
  "kernelspec": {
   "display_name": "Python 3.11.7 64-bit ('nlp': conda)",
   "name": "python3117jvsc74a57bd061144442c5bba5d28851d4d88bd107affeefd4f9a3e21babceae053099746efa"
  },
  "language_info": {
   "name": "python",
   "version": ""
  },
  "orig_nbformat": 2
 },
 "nbformat": 4,
 "nbformat_minor": 2
}