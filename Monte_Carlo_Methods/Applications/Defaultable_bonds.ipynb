{
 "cells": [
  {
   "cell_type": "code",
   "execution_count": 1,
   "metadata": {},
   "outputs": [],
   "source": [
    "import numpy as np\n",
    "import matplotlib.pyplot as plt"
   ]
  },
  {
   "cell_type": "markdown",
   "metadata": {},
   "source": [
    "### Example: Investment in Defaultable Bonds\n",
    "\n",
    "Consider a defaultable bond that pays one dollar if the firm does not default before maturity $T$.  If the company does default, then the bond holder recovers a random amount $R\\sim U(0, 0.4)$, independent of the default time.  We will model the default time of the firm by $\\tau\\sim \\textrm{Exp}(\\lambda)$.\n",
    "\n",
    "The total payoff is therefore\n",
    "\n",
    "$$X = \\left\\{ \\begin{array}{cc} 1 & \\tau > T \\\\ R & \\tau \\leq T \\end{array} \\right.$$\n",
    "\n",
    "We can generate the payoff $X$ as follows:\n",
    "\n",
    "1) Generate $\\tau\\sim\\textrm{Exp}(\\lambda)$\n",
    "\n",
    "2) If $\\tau > T$, then set $X = 1$\n",
    "\n",
    "3) Otherwise, generate $R\\sim U(0, 0.4)$ and set $X = R$.\n",
    "\n",
    "For instance, here is code to calculate $\\mathbb{E}[X]$ if $\\lambda = 1$ and $T = 2$."
   ]
  },
  {
   "cell_type": "code",
   "execution_count": 9,
   "metadata": {},
   "outputs": [
    {
     "name": "stdout",
     "output_type": "stream",
     "text": [
      "Expected value of X = 0.30683080380547906\n",
      "Variance of X = 0.08558772925357007\n"
     ]
    }
   ],
   "source": [
    "lam = 1\n",
    "T = 2\n",
    "N = 100000\n",
    "\n",
    "u = np.random.uniform(0,1, N)\n",
    "\n",
    "tau = -np.log(u)/lam\n",
    "x = np.zeros(N)\n",
    "\n",
    "for i in range(N):\n",
    "    if tau[i] > T:\n",
    "        x[i] = 1\n",
    "    else:\n",
    "        x[i] = np.random.uniform(0, 0.4)\n",
    "mu = np.mean(x)\n",
    "var = np.var(x)\n",
    "print(\"Expected value of X = {}\".format(mu))\n",
    "print(\"Variance of X = {}\".format(var))"
   ]
  },
  {
   "cell_type": "markdown",
   "metadata": {},
   "source": [
    "### How does the previous example change if the recovery amount depends on the state of the economy?  For example, what if $R\\sim U(0, B)$ where $B\\sim U(0, 0.8)$?"
   ]
  },
  {
   "cell_type": "code",
   "execution_count": 11,
   "metadata": {},
   "outputs": [
    {
     "name": "stdout",
     "output_type": "stream",
     "text": [
      "Expected value of X = 0.30739402323039516\n",
      "Variance of X = 0.10148848971976311\n"
     ]
    }
   ],
   "source": [
    "lam = 1\n",
    "T = 2\n",
    "N = 100000\n",
    "\n",
    "u = np.random.uniform(0,1, N)\n",
    "\n",
    "tau = -np.log(u)/lam\n",
    "x = np.zeros(N)\n",
    "\n",
    "for i in range(N):\n",
    "    if tau[i] > T:\n",
    "        x[i] = 1\n",
    "    else:\n",
    "        b = np.random.uniform(0, 0.8)\n",
    "        x[i] = np.random.uniform(0, b)\n",
    "mu = np.mean(x)\n",
    "var = np.var(x)\n",
    "print(\"Expected value of X = {}\".format(mu))\n",
    "print(\"Variance of X = {}\".format(var))"
   ]
  },
  {
   "cell_type": "markdown",
   "metadata": {},
   "source": [
    "### Exercise\n",
    "\n",
    "How does the previous example change if we have a portfolio of bonds from $n$ different firms?  Suppose that each firm has a default time distribution of $\\tau_k\\sim\\textrm{Exp}(\\lambda_k)$ and recovery distribution of $R_k\\sim U(0, 0.4)$ (where the random variables $\\tau_k$ and $R_k$ are all mutually independent).\n",
    "\n",
    "The payoff for each firm is now\n",
    "\n",
    "$$X_k = \\left\\{ \\begin{array}{cc} 1 & \\tau_k > T \\\\ R_k & \\tau_k \\leq T \\end{array} \\right.$$\n",
    "\n",
    "and the total payoff for the portfolio is\n",
    "\n",
    "$$X = \\sum_{k = 1}^{n}w_k X_k$$\n",
    "\n",
    "where $w_k$ are the weights of each bond in our portfolio.\n",
    "\n",
    "What is the expected value of $X$?  What is the variance of $X$?"
   ]
  },
  {
   "cell_type": "markdown",
   "metadata": {},
   "source": []
  }
 ],
 "metadata": {
  "kernelspec": {
   "display_name": "Python 3.11.7 64-bit ('nlp': conda)",
   "name": "python3117jvsc74a57bd061144442c5bba5d28851d4d88bd107affeefd4f9a3e21babceae053099746efa"
  },
  "language_info": {
   "name": "python",
   "version": ""
  },
  "orig_nbformat": 2
 },
 "nbformat": 4,
 "nbformat_minor": 2
}